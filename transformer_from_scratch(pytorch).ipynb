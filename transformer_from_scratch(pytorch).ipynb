{
  "nbformat": 4,
  "nbformat_minor": 0,
  "metadata": {
    "colab": {
      "provenance": [],
      "authorship_tag": "ABX9TyNIIuJgAo9KFIR5sAP3qTvY",
      "include_colab_link": true
    },
    "kernelspec": {
      "name": "python3",
      "display_name": "Python 3"
    },
    "language_info": {
      "name": "python"
    }
  },
  "cells": [
    {
      "cell_type": "markdown",
      "metadata": {
        "id": "view-in-github",
        "colab_type": "text"
      },
      "source": [
        "<a href=\"https://colab.research.google.com/github/Erickrus/llm/blob/main/transformer_from_scratch(pytorch).ipynb\" target=\"_parent\"><img src=\"https://colab.research.google.com/assets/colab-badge.svg\" alt=\"Open In Colab\"/></a>"
      ]
    },
    {
      "cell_type": "markdown",
      "source": [
        "#TRANSFORMERS FROM SCRATCH\n",
        "\n",
        "\n",
        "This notebook is based on a youtube video:\n",
        "\n",
        "Pytorch Transformers from Scratch (Attention is all you need)\n",
        "\n",
        "url: https://www.youtube.com/watch?v=U0s0f995w14&t=2738s\n",
        "\n",
        "<img src=\"https://i.ytimg.com/vi/U0s0f995w14/hqdefault.jpg?sqp=-oaymwEcCNACELwBSFXyq4qpAw4IARUAAIhCGAFwAcABBg==&rs=AOn4CLAOaG0P92UCvlf9IUtQWXB6yVq9lA\" width=250px/>\n",
        "\n",
        "Primary source:\n",
        "\n",
        "url: https://peterbloem.nl/blog/transformers\n",
        "\n",
        "Attention Is All You Need paper\n",
        "\n",
        "url: https://arxiv.org/pdf/1706.03762.pdf\n"
      ],
      "metadata": {
        "id": "s84AldFgUNCy"
      }
    },
    {
      "cell_type": "markdown",
      "source": [
        "https://github.com/Mooler0410/LLMsPracticalGuide?tab=readme-ov-file\n",
        "\n",
        "https://arxiv.org/pdf/2304.13712.pdf\n",
        "\n",
        "- BERT-style Language Models: Encoder-Decoder or Encoder-only\n",
        "\n",
        "- GPT-style Language Models: Decoder-only\n",
        "\n",
        "<img src=\"https://pbs.twimg.com/media/Fuw9fv9akAA_h0q?format=jpg&name=large\" />"
      ],
      "metadata": {
        "id": "0T3no4xt0bCJ"
      }
    },
    {
      "cell_type": "markdown",
      "source": [
        "<img src=\"https://miro.medium.com/v2/resize:fit:856/format:webp/1*ZCFSvkKtppgew3cc7BIaug.png\" width=\"400px\" />\n",
        "\n",
        "For the moment, we will just focus on the encoder part, which is the left part. Multi-Head Attention is the most important of the transformer. If we understand this, we can understand the essential of the whole thing.\n",
        "\n",
        "<img src=\"https://images.squarespace-cdn.com/content/v1/58da330debbd1a5419611082/1555580207391-2ECHQBG0O8MSP4IU4XZ8/ashish+vaswani+headshot.jpg\" width=300px />\n",
        "\n",
        "Ashish Vaswani"
      ],
      "metadata": {
        "id": "2ETtja4aWFaq"
      }
    },
    {
      "cell_type": "markdown",
      "source": [
        "Notice: BERT is encoder-only model. It is different from the orignal paper \"Attention Is All You Need\". The orignal paper is a sequence to sequence model, the model is about the solve end-to-end issue (for translation task).\n",
        "\n",
        "Attention Is All You Need\n",
        "- url: https://arxiv.org/pdf/1706.03762.pdf\n",
        "- author: Ashish Vaswani, Noam Shazeer, Niki Parmar, Jakob Uszkoreit, Llion Jones, Aidan N. Gomez, Łukasz Kaiser, Illia Polosukhin\n",
        "- source: A third party implementation of the translation task https://github.com/jadore801120/attention-is-all-you-need-pytorch/blob/master/transformer/Models.py\n",
        "\n",
        "\n",
        "BERT: Pre-training of Deep Bidirectional Transformers for Language Understanding\n",
        "- url: https://arxiv.org/pdf/1810.04805.pdf\n",
        "- author: Jacob Devlin Ming-Wei Chang Kenton Lee Kristina Toutanova\n",
        "- source: https://github.com/google-research/bert/blob/master/modeling.py\n",
        "\n",
        "BERT source code only have \"encoder\" definition. And the rest part is only a transformer (with or without masked)"
      ],
      "metadata": {
        "id": "O21lt6jiuwQw"
      }
    },
    {
      "cell_type": "code",
      "source": [
        "#@title Mermaid Ink Setup\n",
        "#https://github.com/jihchi/mermaid.ink\n",
        "\n",
        "import base64\n",
        "import io\n",
        "import requests\n",
        "import IPython\n",
        "\n",
        "def mermaid(graph, scale=1.0):\n",
        "  mermaidInkUrl = 'https://mermaid.ink/svg/'\n",
        "  display(\n",
        "    IPython.display.HTML(\n",
        "      io.BytesIO( # generate svg on the fly\n",
        "        requests.get(\n",
        "          mermaidInkUrl +\n",
        "          base64.b64encode(\n",
        "            graph.encode('ascii')\n",
        "          ).decode(\"ascii\")\n",
        "        ).content\n",
        "      ).read().decode('utf-8').replace(\"<svg \", f\"<svg transform=\\\"scale({scale})\\\" \")\n",
        "    )\n",
        "  )\n"
      ],
      "metadata": {
        "cellView": "form",
        "id": "Dm_U47RRlqUi"
      },
      "execution_count": null,
      "outputs": []
    },
    {
      "cell_type": "code",
      "source": [
        "#@title Encoder/Decoder\n",
        "mermaid('''\n",
        "%%{init: {'theme': 'base', 'themeVariables': { 'primaryColor': '#f3f3f3', 'primaryBorderColor':'#000000'}}}%%\n",
        "\n",
        "graph BT;\n",
        "\n",
        "style Inputs fill:#ffffff,stroke:#ffffff,stroke-width:2px;\n",
        "style Outputs fill:#ffffff,stroke:#ffffff,stroke-width:2px;\n",
        "style A1 fill:#ffffff\n",
        "style A2 fill:#ffffff\n",
        "style Input_Embedding fill:#ffdfe0\n",
        "style Output_Embedding fill:#ffdfe0\n",
        "style note fill:#f3f3f3,stroke:#f3f3f3,stroke-width:2px;\n",
        "style note2 fill:#f3f3f3,stroke:#f3f3f3,stroke-width:2px;\n",
        "style Positional_Encoding fill:#ffffff,stroke:#ffffff,stroke-width:2px;\n",
        "style Positional_Encoding2 fill:#ffffff,stroke:#ffffff,stroke-width:2px;\n",
        "\n",
        "style Multi_Head_Attention fill:#ffe3b7\n",
        "style Multi_Head_Attention2 fill:#ffe3b7\n",
        "style Masked_Multi_Head_Attention fill:#ffe3b7\n",
        "style Add_Norm1 fill:#eff9b3\n",
        "style Add_Norm2 fill:#eff9b3\n",
        "style Add_Norm3 fill:#eff9b3\n",
        "style Add_Norm4 fill:#eff9b3\n",
        "style Add_Norm5 fill:#eff9b3\n",
        "style Feed_Forward fill:#bae9f9\n",
        "style Feed_Forward2 fill:#bae9f9\n",
        "\n",
        "style Encoder fill:#f3f3f3,stroke:#000000,stroke-width:2px,rounded;\n",
        "style Decoder fill:#f3f3f3,stroke:#000000,stroke-width:2px,rounded;\n",
        "\n",
        "style Linear fill:#dadfed\n",
        "style Softmax fill:#c7ebcd\n",
        "style Output_Probablities fill:#ffffff,stroke:#ffffff,stroke-width:2px;\n",
        "\n",
        "Inputs --> Input_Embedding(\"Input\\nEmbedding\");\n",
        "Positional_Encoding(\"Positional\\nEncoding\") --> A1(\"+\");\n",
        "Input_Embedding --> A1;\n",
        "A1 --> |K| Multi_Head_Attention(\"Multi-Head\\nAttention\");\n",
        "A1 --> |V| Multi_Head_Attention(\"Multi-Head\\nAttention\");\n",
        "A1 --> |Q| Multi_Head_Attention(\"Multi-Head\\nAttention\");\n",
        "A1 --> Add_Norm1(\"Add & Norm\");\n",
        "\n",
        "subgraph Encoder\n",
        "  Multi_Head_Attention --> Add_Norm1;\n",
        "  Add_Norm1 --> Feed_Forward(\"Feed\\nForward\");\n",
        "  Add_Norm1 --> Add_Norm2(\"Add & Norm\");\n",
        "  Feed_Forward --> Add_Norm2;\n",
        "  note(\"Nx\");\n",
        "\n",
        "end\n",
        "\n",
        "Outputs(\"Outputs\\n(shifted right)\") --> Output_Embedding(\"Output\\nEmbedding\");\n",
        "Output_Embedding --> A2(\"+\");\n",
        "Positional_Encoding2(\"Positional\\nEncoding\") --> A2(\"+\");\n",
        "A2 --> |K| Masked_Multi_Head_Attention(\"Masked\\nMulti-Head\\nAttention\");\n",
        "A2 --> |V| Masked_Multi_Head_Attention(\"Masked\\nMulti-Head\\nAttention\");\n",
        "A2 --> |Q| Masked_Multi_Head_Attention(\"Masked\\nMulti-Head\\nAttention\");\n",
        "A2 --> Add_Norm3(\"Add & Norm\");\n",
        "Add_Norm2 --> |K| Multi_Head_Attention2;\n",
        "Add_Norm2 --> |V| Multi_Head_Attention2;\n",
        "\n",
        "subgraph Decoder\n",
        "  Masked_Multi_Head_Attention --> Add_Norm3;\n",
        "  Add_Norm3 --> |Q| Multi_Head_Attention2(\"Multi-Head\\nAttention\");\n",
        "  Multi_Head_Attention2 --> Add_Norm4(\"Add & Norm\");\n",
        "  Add_Norm3 --> Add_Norm4;\n",
        "  Add_Norm4 --> Feed_Forward2(\"Feed\\nForward\");\n",
        "\n",
        "  Feed_Forward2-->Add_Norm5(\"Add & Norm\")\n",
        "  Add_Norm4 --> Add_Norm5;\n",
        "  note2(\"Nx\");\n",
        "\n",
        "end\n",
        "\n",
        "Add_Norm5 --> Linear(\"Linear\");\n",
        "Linear --> Softmax(\"Softmax\");\n",
        "Softmax --> Output_Probablities(\"Output\\nProbablities\")\n",
        "''', 0.75)"
      ],
      "metadata": {
        "colab": {
          "base_uri": "https://localhost:8080/",
          "height": 1000
        },
        "cellView": "form",
        "id": "dKhsSKXJlknm",
        "outputId": "83ab6161-cb11-470f-8145-3ea1d3f1d3ca"
      },
      "execution_count": null,
      "outputs": [
        {
          "output_type": "display_data",
          "data": {
            "text/plain": [
              "<IPython.core.display.HTML object>"
            ],
            "text/html": [
              "<svg transform=\"scale(0.75)\" id=\"mermaid-svg\" width=\"100%\" xmlns=\"http://www.w3.org/2000/svg\" style=\"max-width: 614.16796875px;\" viewBox=\"-8 -8 614.16796875 1451\" role=\"graphics-document document\" aria-roledescription=\"flowchart-v2\" xmlns:xlink=\"http://www.w3.org/1999/xlink\"><style>#mermaid-svg{font-family:\"trebuchet ms\",verdana,arial,sans-serif;font-size:16px;fill:#333;}#mermaid-svg .error-icon{fill:hsl(180, 0%, 100%);}#mermaid-svg .error-text{fill:rgb(0, 0, 0);stroke:rgb(0, 0, 0);}#mermaid-svg .edge-thickness-normal{stroke-width:2px;}#mermaid-svg .edge-thickness-thick{stroke-width:3.5px;}#mermaid-svg .edge-pattern-solid{stroke-dasharray:0;}#mermaid-svg .edge-pattern-dashed{stroke-dasharray:3;}#mermaid-svg .edge-pattern-dotted{stroke-dasharray:2;}#mermaid-svg .marker{fill:#0b0b0b;stroke:#0b0b0b;}#mermaid-svg .marker.cross{stroke:#0b0b0b;}#mermaid-svg svg{font-family:\"trebuchet ms\",verdana,arial,sans-serif;font-size:16px;}#mermaid-svg .label{font-family:\"trebuchet ms\",verdana,arial,sans-serif;color:#333;}#mermaid-svg .cluster-label text{fill:rgb(0, 0, 0);}#mermaid-svg .cluster-label span,#mermaid-svg p{color:rgb(0, 0, 0);}#mermaid-svg .label text,#mermaid-svg span,#mermaid-svg p{fill:#333;color:#333;}#mermaid-svg .node rect,#mermaid-svg .node circle,#mermaid-svg .node ellipse,#mermaid-svg .node polygon,#mermaid-svg .node path{fill:#f3f3f3;stroke:#000000;stroke-width:1px;}#mermaid-svg .flowchart-label text{text-anchor:middle;}#mermaid-svg .node .label{text-align:center;}#mermaid-svg .node.clickable{cursor:pointer;}#mermaid-svg .arrowheadPath{fill:#0b0b0b;}#mermaid-svg .edgePath .path{stroke:#0b0b0b;stroke-width:2.0px;}#mermaid-svg .flowchart-link{stroke:#0b0b0b;fill:none;}#mermaid-svg .edgeLabel{background-color:hsl(-120, 0%, 95.2941176471%);text-align:center;}#mermaid-svg .edgeLabel rect{opacity:0.5;background-color:hsl(-120, 0%, 95.2941176471%);fill:hsl(-120, 0%, 95.2941176471%);}#mermaid-svg .labelBkg{background-color:rgba(243.0000000001, 243.0000000001, 243.0000000001, 0.5);}#mermaid-svg .cluster rect{fill:hsl(180, 0%, 100%);stroke:hsl(180, 0%, 90%);stroke-width:1px;}#mermaid-svg .cluster text{fill:rgb(0, 0, 0);}#mermaid-svg .cluster span,#mermaid-svg p{color:rgb(0, 0, 0);}#mermaid-svg div.mermaidTooltip{position:absolute;text-align:center;max-width:200px;padding:2px;font-family:\"trebuchet ms\",verdana,arial,sans-serif;font-size:12px;background:hsl(180, 0%, 100%);border:1px solid hsl(180, 0%, 90%);border-radius:2px;pointer-events:none;z-index:100;}#mermaid-svg .flowchartTitleText{text-anchor:middle;font-size:18px;fill:#333;}#mermaid-svg :root{--mermaid-font-family:\"trebuchet ms\",verdana,arial,sans-serif;}</style><g><marker id=\"mermaid-svg_flowchart-pointEnd\" class=\"marker flowchart\" viewBox=\"0 0 10 10\" refX=\"6\" refY=\"5\" markerUnits=\"userSpaceOnUse\" markerWidth=\"12\" markerHeight=\"12\" orient=\"auto\"><path d=\"M 0 0 L 10 5 L 0 10 z\" class=\"arrowMarkerPath\" style=\"stroke-width: 1; stroke-dasharray: 1, 0;\"></path></marker><marker id=\"mermaid-svg_flowchart-pointStart\" class=\"marker flowchart\" viewBox=\"0 0 10 10\" refX=\"4.5\" refY=\"5\" markerUnits=\"userSpaceOnUse\" markerWidth=\"12\" markerHeight=\"12\" orient=\"auto\"><path d=\"M 0 5 L 10 10 L 10 0 z\" class=\"arrowMarkerPath\" style=\"stroke-width: 1; stroke-dasharray: 1, 0;\"></path></marker><marker id=\"mermaid-svg_flowchart-circleEnd\" class=\"marker flowchart\" viewBox=\"0 0 10 10\" refX=\"11\" refY=\"5\" markerUnits=\"userSpaceOnUse\" markerWidth=\"11\" markerHeight=\"11\" orient=\"auto\"><circle cx=\"5\" cy=\"5\" r=\"5\" class=\"arrowMarkerPath\" style=\"stroke-width: 1; stroke-dasharray: 1, 0;\"></circle></marker><marker id=\"mermaid-svg_flowchart-circleStart\" class=\"marker flowchart\" viewBox=\"0 0 10 10\" refX=\"-1\" refY=\"5\" markerUnits=\"userSpaceOnUse\" markerWidth=\"11\" markerHeight=\"11\" orient=\"auto\"><circle cx=\"5\" cy=\"5\" r=\"5\" class=\"arrowMarkerPath\" style=\"stroke-width: 1; stroke-dasharray: 1, 0;\"></circle></marker><marker id=\"mermaid-svg_flowchart-crossEnd\" class=\"marker cross flowchart\" viewBox=\"0 0 11 11\" refX=\"12\" refY=\"5.2\" markerUnits=\"userSpaceOnUse\" markerWidth=\"11\" markerHeight=\"11\" orient=\"auto\"><path d=\"M 1,1 l 9,9 M 10,1 l -9,9\" class=\"arrowMarkerPath\" style=\"stroke-width: 2; stroke-dasharray: 1, 0;\"></path></marker><marker id=\"mermaid-svg_flowchart-crossStart\" class=\"marker cross flowchart\" viewBox=\"0 0 11 11\" refX=\"-1\" refY=\"5.2\" markerUnits=\"userSpaceOnUse\" markerWidth=\"11\" markerHeight=\"11\" orient=\"auto\"><path d=\"M 1,1 l 9,9 M 10,1 l -9,9\" class=\"arrowMarkerPath\" style=\"stroke-width: 2; stroke-dasharray: 1, 0;\"></path></marker><g class=\"root\"><g class=\"clusters\"><g class=\"cluster default flowchart-label\" id=\"Decoder\"><rect style=\"fill:#f3f3f3;stroke:#000000;stroke-width:2px;rounded;\" rx=\"0\" ry=\"0\" x=\"292.63671875\" y=\"271\" width=\"305.53125\" height=\"624\"></rect><g class=\"cluster-label\" transform=\"translate(415.94921875, 271)\"><foreignObject width=\"58.90625\" height=\"19\"><div xmlns=\"http://www.w3.org/1999/xhtml\" style=\"display: inline-block; white-space: nowrap;\"><span class=\"nodeLabel\">Decoder</span></div></foreignObject></g></g><g class=\"cluster default flowchart-label\" id=\"Encoder\"><rect style=\"fill:#f3f3f3;stroke:#000000;stroke-width:2px;rounded;\" rx=\"0\" ry=\"0\" x=\"0\" y=\"689\" width=\"272.63671875\" height=\"437\"></rect><g class=\"cluster-label\" transform=\"translate(107.474609375, 689)\"><foreignObject width=\"57.6875\" height=\"19\"><div xmlns=\"http://www.w3.org/1999/xhtml\" style=\"display: inline-block; white-space: nowrap;\"><span class=\"nodeLabel\">Encoder</span></div></foreignObject></g></g></g><g class=\"edgePaths\"><path d=\"M247.598,1401L247.598,1396.833C247.598,1392.667,247.598,1384.333,247.598,1376.883C247.598,1369.433,247.598,1362.867,247.598,1359.583L247.598,1356.3\" id=\"L-Inputs-Input_Embedding-0\" class=\" edge-thickness-normal edge-pattern-solid flowchart-link LS-Inputs LE-Input_Embedding\" style=\"fill:none;\" marker-end=\"url(#mermaid-svg_flowchart-pointEnd)\"></path><path d=\"M108.691,1298L108.691,1293.833C108.691,1289.667,108.691,1281.333,116.445,1270.757C124.198,1260.182,139.705,1247.363,147.458,1240.954L155.212,1234.545\" id=\"L-Positional_Encoding-A1-0\" class=\" edge-thickness-normal edge-pattern-solid flowchart-link LS-Positional_Encoding LE-A1\" style=\"fill:none;\" marker-end=\"url(#mermaid-svg_flowchart-pointEnd)\"></path><path d=\"M247.598,1298L247.598,1293.833C247.598,1289.667,247.598,1281.333,237.512,1270.387C227.427,1259.44,207.257,1245.88,197.171,1239.1L187.086,1232.319\" id=\"L-Input_Embedding-A1-0\" class=\" edge-thickness-normal edge-pattern-solid flowchart-link LS-Input_Embedding LE-A1\" style=\"fill:none;\" marker-end=\"url(#mermaid-svg_flowchart-pointEnd)\"></path><path d=\"M159.297,1210.813L150.12,1202.427C140.944,1194.042,122.591,1177.271,113.415,1163.135C104.238,1149,104.238,1137.5,106.947,1128.28C109.655,1119.059,115.071,1112.119,117.78,1108.649L120.488,1105.178\" id=\"L-A1-Multi_Head_Attention-0\" class=\" edge-thickness-normal edge-pattern-solid flowchart-link LS-A1 LE-Multi_Head_Attention\" style=\"fill:none;\" marker-end=\"url(#mermaid-svg_flowchart-pointEnd)\"></path><path d=\"M164.408,1204.5L161.568,1197.167C158.728,1189.833,153.048,1175.167,150.207,1162.083C147.367,1149,147.367,1137.5,147.18,1128.465C146.992,1119.43,146.618,1112.861,146.43,1109.576L146.243,1106.291\" id=\"L-A1-Multi_Head_Attention-1\" class=\" edge-thickness-normal edge-pattern-solid flowchart-link LS-A1 LE-Multi_Head_Attention\" style=\"fill:none;\" marker-end=\"url(#mermaid-svg_flowchart-pointEnd)\"></path><path d=\"M182.688,1212.762L194.346,1204.052C206.004,1195.341,229.32,1177.921,240.979,1163.46C252.637,1149,252.637,1137.5,243.159,1127.239C233.681,1116.978,214.726,1107.957,205.248,1103.446L195.77,1098.935\" id=\"L-A1-Multi_Head_Attention-2\" class=\" edge-thickness-normal edge-pattern-solid flowchart-link LS-A1 LE-Multi_Head_Attention\" style=\"fill:none;\" marker-end=\"url(#mermaid-svg_flowchart-pointEnd)\"></path><path d=\"M159.297,1214.901L143.227,1205.835C127.156,1196.768,95.016,1178.634,78.945,1163.817C62.875,1149,62.875,1137.5,62.875,1123.167C62.875,1108.833,62.875,1091.667,62.875,1074.5C62.875,1057.333,62.875,1040.167,66.305,1028.05C69.735,1015.934,76.595,1008.868,80.025,1005.336L83.455,1001.803\" id=\"L-A1-Add_Norm1-0\" class=\" edge-thickness-normal edge-pattern-solid flowchart-link LS-A1 LE-Add_Norm1\" style=\"fill:none;\" marker-end=\"url(#mermaid-svg_flowchart-pointEnd)\"></path><path d=\"M144.43,1048L144.43,1043.833C144.43,1039.667,144.43,1031.333,141,1023.634C137.57,1015.934,130.709,1008.868,127.279,1005.336L123.849,1001.803\" id=\"L-Multi_Head_Attention-Add_Norm1-0\" class=\" edge-thickness-normal edge-pattern-solid flowchart-link LS-Multi_Head_Attention LE-Add_Norm1\" style=\"fill:none;\" marker-end=\"url(#mermaid-svg_flowchart-pointEnd)\"></path><path d=\"M119.688,964L125.112,958.25C130.535,952.5,141.383,941,146.807,929.5C152.23,918,152.23,906.5,152.23,895.883C152.23,885.267,152.23,875.533,152.23,870.667L152.23,865.8\" id=\"L-Add_Norm1-Feed_Forward-0\" class=\" edge-thickness-normal edge-pattern-solid flowchart-link LS-Add_Norm1 LE-Feed_Forward\" style=\"fill:none;\" marker-end=\"url(#mermaid-svg_flowchart-pointEnd)\"></path><path d=\"M86.891,964L81.222,958.25C75.552,952.5,64.214,941,58.544,929.5C52.875,918,52.875,906.5,52.875,890.583C52.875,874.667,52.875,854.333,52.875,834C52.875,813.667,52.875,793.333,57.232,779.563C61.589,765.793,70.302,758.585,74.659,754.982L79.016,751.378\" id=\"L-Add_Norm1-Add_Norm2-0\" class=\" edge-thickness-normal edge-pattern-solid flowchart-link LS-Add_Norm1 LE-Add_Norm2\" style=\"fill:none;\" marker-end=\"url(#mermaid-svg_flowchart-pointEnd)\"></path><path d=\"M152.23,807.5L152.23,801.75C152.23,796,152.23,784.5,148.079,775.161C143.928,765.822,135.626,758.644,131.475,755.055L127.324,751.466\" id=\"L-Feed_Forward-Add_Norm2-0\" class=\" edge-thickness-normal edge-pattern-solid flowchart-link LS-Feed_Forward LE-Add_Norm2\" style=\"fill:none;\" marker-end=\"url(#mermaid-svg_flowchart-pointEnd)\"></path><path d=\"M390.203,1195L390.203,1189.25C390.203,1183.5,390.203,1172,390.203,1160.5C390.203,1149,390.203,1137.5,390.203,1128.467C390.203,1119.433,390.203,1112.867,390.203,1109.583L390.203,1106.3\" id=\"L-Outputs-Output_Embedding-0\" class=\" edge-thickness-normal edge-pattern-solid flowchart-link LS-Outputs LE-Output_Embedding\" style=\"fill:none;\" marker-end=\"url(#mermaid-svg_flowchart-pointEnd)\"></path><path d=\"M390.203,1048L390.203,1043.833C390.203,1039.667,390.203,1031.333,399.074,1021.803C407.944,1012.272,425.685,1001.543,434.555,996.179L443.426,990.815\" id=\"L-Output_Embedding-A2-0\" class=\" edge-thickness-normal edge-pattern-solid flowchart-link LS-Output_Embedding LE-A2\" style=\"fill:none;\" marker-end=\"url(#mermaid-svg_flowchart-pointEnd)\"></path><path d=\"M529.109,1048L529.109,1043.833C529.109,1039.667,529.109,1031.333,520.239,1021.803C511.369,1012.272,493.628,1001.543,484.757,996.179L475.887,990.815\" id=\"L-Positional_Encoding2-A2-0\" class=\" edge-thickness-normal edge-pattern-solid flowchart-link LS-Positional_Encoding2 LE-A2\" style=\"fill:none;\" marker-end=\"url(#mermaid-svg_flowchart-pointEnd)\"></path><path d=\"M447.961,969.112L441.466,962.51C434.971,955.908,421.982,942.704,415.487,930.352C408.992,918,408.992,906.5,412.718,897.193C416.445,887.886,423.897,880.773,427.623,877.216L431.349,873.659\" id=\"L-A2-Masked_Multi_Head_Attention-0\" class=\" edge-thickness-normal edge-pattern-solid flowchart-link LS-A2 LE-Masked_Multi_Head_Attention\" style=\"fill:none;\" marker-end=\"url(#mermaid-svg_flowchart-pointEnd)\"></path><path d=\"M464.027,964L465.506,958.25C466.984,952.5,469.941,941,471.42,929.5C472.898,918,472.898,906.5,472.898,897.467C472.898,888.433,472.898,881.867,472.898,878.583L472.898,875.3\" id=\"L-A2-Masked_Multi_Head_Attention-1\" class=\" edge-thickness-normal edge-pattern-solid flowchart-link LS-A2 LE-Masked_Multi_Head_Attention\" style=\"fill:none;\" marker-end=\"url(#mermaid-svg_flowchart-pointEnd)\"></path><path d=\"M471.352,972.583L481.328,965.402C491.305,958.222,511.258,943.861,521.234,930.93C531.211,918,531.211,906.5,527.838,897.222C524.466,887.944,517.72,880.887,514.347,877.359L510.975,873.831\" id=\"L-A2-Masked_Multi_Head_Attention-2\" class=\" edge-thickness-normal edge-pattern-solid flowchart-link LS-A2 LE-Masked_Multi_Head_Attention\" style=\"fill:none;\" marker-end=\"url(#mermaid-svg_flowchart-pointEnd)\"></path><path d=\"M447.961,974.239L435.062,966.783C422.163,959.326,396.365,944.413,383.465,931.207C370.566,918,370.566,906.5,370.566,890.583C370.566,874.667,370.566,854.333,370.566,834C370.566,813.667,370.566,793.333,375.943,779.498C381.32,765.662,392.074,758.325,397.451,754.656L402.828,750.987\" id=\"L-A2-Add_Norm3-0\" class=\" edge-thickness-normal edge-pattern-solid flowchart-link LS-A2 LE-Add_Norm3\" style=\"fill:none;\" marker-end=\"url(#mermaid-svg_flowchart-pointEnd)\"></path><path d=\"M87.147,714L83.102,709.833C79.056,705.667,70.966,697.333,111.968,687.417C152.97,677.5,243.065,666,291.668,655.221C340.271,644.443,347.382,634.385,350.938,629.356L354.493,624.328\" id=\"L-Add_Norm2-Multi_Head_Attention2-0\" class=\" edge-thickness-normal edge-pattern-solid flowchart-link LS-Add_Norm2 LE-Multi_Head_Attention2\" style=\"fill:none;\" marker-end=\"url(#mermaid-svg_flowchart-pointEnd)\"></path><path d=\"M133.804,714L141.194,709.833C148.584,705.667,163.364,697.333,203.779,687.417C244.193,677.5,310.241,666,343.265,655.383C376.289,644.767,376.289,635.033,376.289,630.167L376.289,625.3\" id=\"L-Add_Norm2-Multi_Head_Attention2-1\" class=\" edge-thickness-normal edge-pattern-solid flowchart-link LS-Add_Norm2 LE-Multi_Head_Attention2\" style=\"fill:none;\" marker-end=\"url(#mermaid-svg_flowchart-pointEnd)\"></path><path d=\"M472.898,798L472.898,793.833C472.898,789.667,472.898,781.333,469.468,773.634C466.038,765.934,459.178,758.868,455.748,755.336L452.318,751.803\" id=\"L-Masked_Multi_Head_Attention-Add_Norm3-0\" class=\" edge-thickness-normal edge-pattern-solid flowchart-link LS-Masked_Multi_Head_Attention LE-Add_Norm3\" style=\"fill:none;\" marker-end=\"url(#mermaid-svg_flowchart-pointEnd)\"></path><path d=\"M421.71,714L419.158,709.833C416.606,705.667,411.502,697.333,408.95,687.417C406.398,677.5,406.398,666,403.951,655.292C401.504,644.584,396.61,634.668,394.162,629.71L391.715,624.753\" id=\"L-Add_Norm3-Multi_Head_Attention2-0\" class=\" edge-thickness-normal edge-pattern-solid flowchart-link LS-Add_Norm3 LE-Multi_Head_Attention2\" style=\"fill:none;\" marker-end=\"url(#mermaid-svg_flowchart-pointEnd)\"></path><path d=\"M376.289,567L376.289,562.833C376.289,558.667,376.289,550.333,379.719,542.634C383.149,534.934,390.009,527.868,393.439,524.336L396.869,520.803\" id=\"L-Multi_Head_Attention2-Add_Norm4-0\" class=\" edge-thickness-normal edge-pattern-solid flowchart-link LS-Multi_Head_Attention2 LE-Add_Norm4\" style=\"fill:none;\" marker-end=\"url(#mermaid-svg_flowchart-pointEnd)\"></path><path d=\"M461.084,714L468.182,709.833C475.281,705.667,489.478,697.333,496.577,687.417C503.676,677.5,503.676,666,503.676,650.083C503.676,634.167,503.676,613.833,503.676,595.083C503.676,576.333,503.676,559.167,495.878,546.802C488.081,534.438,472.486,526.875,464.689,523.094L456.891,519.313\" id=\"L-Add_Norm3-Add_Norm4-0\" class=\" edge-thickness-normal edge-pattern-solid flowchart-link LS-Add_Norm3 LE-Add_Norm4\" style=\"fill:none;\" marker-end=\"url(#mermaid-svg_flowchart-pointEnd)\"></path><path d=\"M398.593,483L394.065,478.833C389.537,474.667,380.481,466.333,375.954,458.883C371.426,451.433,371.426,444.867,371.426,441.583L371.426,438.3\" id=\"L-Add_Norm4-Feed_Forward2-0\" class=\" edge-thickness-normal edge-pattern-solid flowchart-link LS-Add_Norm4 LE-Feed_Forward2\" style=\"fill:none;\" marker-end=\"url(#mermaid-svg_flowchart-pointEnd)\"></path><path d=\"M371.426,380L371.426,375.833C371.426,371.667,371.426,363.333,375.304,355.598C379.181,347.863,386.937,340.726,390.815,337.157L394.693,333.589\" id=\"L-Feed_Forward2-Add_Norm5-0\" class=\" edge-thickness-normal edge-pattern-solid flowchart-link LS-Feed_Forward2 LE-Add_Norm5\" style=\"fill:none;\" marker-end=\"url(#mermaid-svg_flowchart-pointEnd)\"></path><path d=\"M452.123,483L460.715,478.833C469.307,474.667,486.491,466.333,495.084,453.583C503.676,440.833,503.676,423.667,503.676,406.5C503.676,389.333,503.676,372.167,495.878,359.802C488.081,347.438,472.486,339.875,464.689,336.094L456.891,332.313\" id=\"L-Add_Norm4-Add_Norm5-0\" class=\" edge-thickness-normal edge-pattern-solid flowchart-link LS-Add_Norm4 LE-Add_Norm5\" style=\"fill:none;\" marker-end=\"url(#mermaid-svg_flowchart-pointEnd)\"></path><path d=\"M417.066,296L417.066,291.833C417.066,287.667,417.066,279.333,417.066,271C417.066,262.667,417.066,254.333,417.066,246.883C417.066,239.433,417.066,232.867,417.066,229.583L417.066,226.3\" id=\"L-Add_Norm5-Linear-0\" class=\" edge-thickness-normal edge-pattern-solid flowchart-link LS-Add_Norm5 LE-Linear\" style=\"fill:none;\" marker-end=\"url(#mermaid-svg_flowchart-pointEnd)\"></path><path d=\"M417.066,187L417.066,182.833C417.066,178.667,417.066,170.333,417.066,162.883C417.066,155.433,417.066,148.867,417.066,145.583L417.066,142.3\" id=\"L-Linear-Softmax-0\" class=\" edge-thickness-normal edge-pattern-solid flowchart-link LS-Linear LE-Softmax\" style=\"fill:none;\" marker-end=\"url(#mermaid-svg_flowchart-pointEnd)\"></path><path d=\"M417.066,103L417.066,98.833C417.066,94.667,417.066,86.333,417.066,78.883C417.066,71.433,417.066,64.867,417.066,61.583L417.066,58.3\" id=\"L-Softmax-Output_Probablities-0\" class=\" edge-thickness-normal edge-pattern-solid flowchart-link LS-Softmax LE-Output_Probablities\" style=\"fill:none;\" marker-end=\"url(#mermaid-svg_flowchart-pointEnd)\"></path></g><g class=\"edgeLabels\"><g class=\"edgeLabel\"><g class=\"label\" transform=\"translate(0, 0)\"><foreignObject width=\"0\" height=\"0\"><div xmlns=\"http://www.w3.org/1999/xhtml\" style=\"display: inline-block; white-space: nowrap;\"><span class=\"edgeLabel\"></span></div></foreignObject></g></g><g class=\"edgeLabel\"><g class=\"label\" transform=\"translate(0, 0)\"><foreignObject width=\"0\" height=\"0\"><div xmlns=\"http://www.w3.org/1999/xhtml\" style=\"display: inline-block; white-space: nowrap;\"><span class=\"edgeLabel\"></span></div></foreignObject></g></g><g class=\"edgeLabel\"><g class=\"label\" transform=\"translate(0, 0)\"><foreignObject width=\"0\" height=\"0\"><div xmlns=\"http://www.w3.org/1999/xhtml\" style=\"display: inline-block; white-space: nowrap;\"><span class=\"edgeLabel\"></span></div></foreignObject></g></g><g class=\"edgeLabel\" transform=\"translate(104.23828125, 1160.5)\"><g class=\"label\" transform=\"translate(-4.609375, -9.5)\"><foreignObject width=\"9.21875\" height=\"19\"><div xmlns=\"http://www.w3.org/1999/xhtml\" style=\"display: inline-block; white-space: nowrap;\"><span class=\"edgeLabel\">K</span></div></foreignObject></g></g><g class=\"edgeLabel\" transform=\"translate(147.3671875, 1160.5)\"><g class=\"label\" transform=\"translate(-4.703125, -9.5)\"><foreignObject width=\"9.40625\" height=\"19\"><div xmlns=\"http://www.w3.org/1999/xhtml\" style=\"display: inline-block; white-space: nowrap;\"><span class=\"edgeLabel\">V</span></div></foreignObject></g></g><g class=\"edgeLabel\" transform=\"translate(252.63671875, 1160.5)\"><g class=\"label\" transform=\"translate(-5.40625, -9.5)\"><foreignObject width=\"10.8125\" height=\"19\"><div xmlns=\"http://www.w3.org/1999/xhtml\" style=\"display: inline-block; white-space: nowrap;\"><span class=\"edgeLabel\">Q</span></div></foreignObject></g></g><g class=\"edgeLabel\"><g class=\"label\" transform=\"translate(0, 0)\"><foreignObject width=\"0\" height=\"0\"><div xmlns=\"http://www.w3.org/1999/xhtml\" style=\"display: inline-block; white-space: nowrap;\"><span class=\"edgeLabel\"></span></div></foreignObject></g></g><g class=\"edgeLabel\"><g class=\"label\" transform=\"translate(0, 0)\"><foreignObject width=\"0\" height=\"0\"><div xmlns=\"http://www.w3.org/1999/xhtml\" style=\"display: inline-block; white-space: nowrap;\"><span class=\"edgeLabel\"></span></div></foreignObject></g></g><g class=\"edgeLabel\"><g class=\"label\" transform=\"translate(0, 0)\"><foreignObject width=\"0\" height=\"0\"><div xmlns=\"http://www.w3.org/1999/xhtml\" style=\"display: inline-block; white-space: nowrap;\"><span class=\"edgeLabel\"></span></div></foreignObject></g></g><g class=\"edgeLabel\"><g class=\"label\" transform=\"translate(0, 0)\"><foreignObject width=\"0\" height=\"0\"><div xmlns=\"http://www.w3.org/1999/xhtml\" style=\"display: inline-block; white-space: nowrap;\"><span class=\"edgeLabel\"></span></div></foreignObject></g></g><g class=\"edgeLabel\"><g class=\"label\" transform=\"translate(0, 0)\"><foreignObject width=\"0\" height=\"0\"><div xmlns=\"http://www.w3.org/1999/xhtml\" style=\"display: inline-block; white-space: nowrap;\"><span class=\"edgeLabel\"></span></div></foreignObject></g></g><g class=\"edgeLabel\"><g class=\"label\" transform=\"translate(0, 0)\"><foreignObject width=\"0\" height=\"0\"><div xmlns=\"http://www.w3.org/1999/xhtml\" style=\"display: inline-block; white-space: nowrap;\"><span class=\"edgeLabel\"></span></div></foreignObject></g></g><g class=\"edgeLabel\"><g class=\"label\" transform=\"translate(0, 0)\"><foreignObject width=\"0\" height=\"0\"><div xmlns=\"http://www.w3.org/1999/xhtml\" style=\"display: inline-block; white-space: nowrap;\"><span class=\"edgeLabel\"></span></div></foreignObject></g></g><g class=\"edgeLabel\"><g class=\"label\" transform=\"translate(0, 0)\"><foreignObject width=\"0\" height=\"0\"><div xmlns=\"http://www.w3.org/1999/xhtml\" style=\"display: inline-block; white-space: nowrap;\"><span class=\"edgeLabel\"></span></div></foreignObject></g></g><g class=\"edgeLabel\" transform=\"translate(408.9921875, 929.5)\"><g class=\"label\" transform=\"translate(-4.609375, -9.5)\"><foreignObject width=\"9.21875\" height=\"19\"><div xmlns=\"http://www.w3.org/1999/xhtml\" style=\"display: inline-block; white-space: nowrap;\"><span class=\"edgeLabel\">K</span></div></foreignObject></g></g><g class=\"edgeLabel\" transform=\"translate(472.8984375, 929.5)\"><g class=\"label\" transform=\"translate(-4.703125, -9.5)\"><foreignObject width=\"9.40625\" height=\"19\"><div xmlns=\"http://www.w3.org/1999/xhtml\" style=\"display: inline-block; white-space: nowrap;\"><span class=\"edgeLabel\">V</span></div></foreignObject></g></g><g class=\"edgeLabel\" transform=\"translate(531.2109375, 929.5)\"><g class=\"label\" transform=\"translate(-5.40625, -9.5)\"><foreignObject width=\"10.8125\" height=\"19\"><div xmlns=\"http://www.w3.org/1999/xhtml\" style=\"display: inline-block; white-space: nowrap;\"><span class=\"edgeLabel\">Q</span></div></foreignObject></g></g><g class=\"edgeLabel\"><g class=\"label\" transform=\"translate(0, 0)\"><foreignObject width=\"0\" height=\"0\"><div xmlns=\"http://www.w3.org/1999/xhtml\" style=\"display: inline-block; white-space: nowrap;\"><span class=\"edgeLabel\"></span></div></foreignObject></g></g><g class=\"edgeLabel\" transform=\"translate(333.16015625, 654.5)\"><g class=\"label\" transform=\"translate(-4.609375, -9.5)\"><foreignObject width=\"9.21875\" height=\"19\"><div xmlns=\"http://www.w3.org/1999/xhtml\" style=\"display: inline-block; white-space: nowrap;\"><span class=\"edgeLabel\">K</span></div></foreignObject></g></g><g class=\"edgeLabel\" transform=\"translate(376.2890625, 654.5)\"><g class=\"label\" transform=\"translate(-4.703125, -9.5)\"><foreignObject width=\"9.40625\" height=\"19\"><div xmlns=\"http://www.w3.org/1999/xhtml\" style=\"display: inline-block; white-space: nowrap;\"><span class=\"edgeLabel\">V</span></div></foreignObject></g></g><g class=\"edgeLabel\"><g class=\"label\" transform=\"translate(0, 0)\"><foreignObject width=\"0\" height=\"0\"><div xmlns=\"http://www.w3.org/1999/xhtml\" style=\"display: inline-block; white-space: nowrap;\"><span class=\"edgeLabel\"></span></div></foreignObject></g></g><g class=\"edgeLabel\" transform=\"translate(406.3984375, 654.5)\"><g class=\"label\" transform=\"translate(-5.40625, -9.5)\"><foreignObject width=\"10.8125\" height=\"19\"><div xmlns=\"http://www.w3.org/1999/xhtml\" style=\"display: inline-block; white-space: nowrap;\"><span class=\"edgeLabel\">Q</span></div></foreignObject></g></g><g class=\"edgeLabel\"><g class=\"label\" transform=\"translate(0, 0)\"><foreignObject width=\"0\" height=\"0\"><div xmlns=\"http://www.w3.org/1999/xhtml\" style=\"display: inline-block; white-space: nowrap;\"><span class=\"edgeLabel\"></span></div></foreignObject></g></g><g class=\"edgeLabel\"><g class=\"label\" transform=\"translate(0, 0)\"><foreignObject width=\"0\" height=\"0\"><div xmlns=\"http://www.w3.org/1999/xhtml\" style=\"display: inline-block; white-space: nowrap;\"><span class=\"edgeLabel\"></span></div></foreignObject></g></g><g class=\"edgeLabel\"><g class=\"label\" transform=\"translate(0, 0)\"><foreignObject width=\"0\" height=\"0\"><div xmlns=\"http://www.w3.org/1999/xhtml\" style=\"display: inline-block; white-space: nowrap;\"><span class=\"edgeLabel\"></span></div></foreignObject></g></g><g class=\"edgeLabel\"><g class=\"label\" transform=\"translate(0, 0)\"><foreignObject width=\"0\" height=\"0\"><div xmlns=\"http://www.w3.org/1999/xhtml\" style=\"display: inline-block; white-space: nowrap;\"><span class=\"edgeLabel\"></span></div></foreignObject></g></g><g class=\"edgeLabel\"><g class=\"label\" transform=\"translate(0, 0)\"><foreignObject width=\"0\" height=\"0\"><div xmlns=\"http://www.w3.org/1999/xhtml\" style=\"display: inline-block; white-space: nowrap;\"><span class=\"edgeLabel\"></span></div></foreignObject></g></g><g class=\"edgeLabel\"><g class=\"label\" transform=\"translate(0, 0)\"><foreignObject width=\"0\" height=\"0\"><div xmlns=\"http://www.w3.org/1999/xhtml\" style=\"display: inline-block; white-space: nowrap;\"><span class=\"edgeLabel\"></span></div></foreignObject></g></g><g class=\"edgeLabel\"><g class=\"label\" transform=\"translate(0, 0)\"><foreignObject width=\"0\" height=\"0\"><div xmlns=\"http://www.w3.org/1999/xhtml\" style=\"display: inline-block; white-space: nowrap;\"><span class=\"edgeLabel\"></span></div></foreignObject></g></g><g class=\"edgeLabel\"><g class=\"label\" transform=\"translate(0, 0)\"><foreignObject width=\"0\" height=\"0\"><div xmlns=\"http://www.w3.org/1999/xhtml\" style=\"display: inline-block; white-space: nowrap;\"><span class=\"edgeLabel\"></span></div></foreignObject></g></g></g><g class=\"nodes\"><g class=\"node default default flowchart-label\" id=\"flowchart-Add_Norm3-15\" transform=\"translate(432.12109375, 731)\"><rect class=\"basic label-container\" style=\"fill:#eff9b3;\" rx=\"5\" ry=\"5\" x=\"-50.75\" y=\"-17\" width=\"101.5\" height=\"34\"></rect><g class=\"label\" style=\"\" transform=\"translate(-43.25, -9.5)\"><rect></rect><foreignObject width=\"86.5\" height=\"19\"><div xmlns=\"http://www.w3.org/1999/xhtml\" style=\"display: inline-block; white-space: nowrap;\"><span class=\"nodeLabel\">Add &amp; Norm</span></div></foreignObject></g></g><g class=\"node default default flowchart-label\" id=\"flowchart-Masked_Multi_Head_Attention-12\" transform=\"translate(472.8984375, 834)\"><rect class=\"basic label-container\" style=\"fill:#ffe3b7;\" rx=\"5\" ry=\"5\" x=\"-46.5546875\" y=\"-36\" width=\"93.109375\" height=\"72\"></rect><g class=\"label\" style=\"\" transform=\"translate(-39.0546875, -28.5)\"><rect></rect><foreignObject width=\"78.109375\" height=\"57\"><div xmlns=\"http://www.w3.org/1999/xhtml\" style=\"display: inline-block; white-space: nowrap;\"><span class=\"nodeLabel\">Masked<br/>Multi-Head<br/>Attention</span></div></foreignObject></g></g><g class=\"node default default flowchart-label\" id=\"flowchart-Multi_Head_Attention2-11\" transform=\"translate(376.2890625, 593.5)\"><rect class=\"basic label-container\" style=\"fill:#ffe3b7;\" rx=\"5\" ry=\"5\" x=\"-46.5546875\" y=\"-26.5\" width=\"93.109375\" height=\"53\"></rect><g class=\"label\" style=\"\" transform=\"translate(-39.0546875, -19)\"><rect></rect><foreignObject width=\"78.109375\" height=\"38\"><div xmlns=\"http://www.w3.org/1999/xhtml\" style=\"display: inline-block; white-space: nowrap;\"><span class=\"nodeLabel\">Multi-Head<br/>Attention</span></div></foreignObject></g></g><g class=\"node default default flowchart-label\" id=\"flowchart-Add_Norm4-16\" transform=\"translate(417.06640625, 500)\"><rect class=\"basic label-container\" style=\"fill:#eff9b3;\" rx=\"5\" ry=\"5\" x=\"-50.75\" y=\"-17\" width=\"101.5\" height=\"34\"></rect><g class=\"label\" style=\"\" transform=\"translate(-43.25, -9.5)\"><rect></rect><foreignObject width=\"86.5\" height=\"19\"><div xmlns=\"http://www.w3.org/1999/xhtml\" style=\"display: inline-block; white-space: nowrap;\"><span class=\"nodeLabel\">Add &amp; Norm</span></div></foreignObject></g></g><g class=\"node default default flowchart-label\" id=\"flowchart-Feed_Forward2-19\" transform=\"translate(371.42578125, 406.5)\"><rect class=\"basic label-container\" style=\"fill:#bae9f9;\" rx=\"5\" ry=\"5\" x=\"-36.828125\" y=\"-26.5\" width=\"73.65625\" height=\"53\"></rect><g class=\"label\" style=\"\" transform=\"translate(-29.328125, -19)\"><rect></rect><foreignObject width=\"58.65625\" height=\"38\"><div xmlns=\"http://www.w3.org/1999/xhtml\" style=\"display: inline-block; white-space: nowrap;\"><span class=\"nodeLabel\">Feed<br/>Forward</span></div></foreignObject></g></g><g class=\"node default default flowchart-label\" id=\"flowchart-Add_Norm5-17\" transform=\"translate(417.06640625, 313)\"><rect class=\"basic label-container\" style=\"fill:#eff9b3;\" rx=\"5\" ry=\"5\" x=\"-50.75\" y=\"-17\" width=\"101.5\" height=\"34\"></rect><g class=\"label\" style=\"\" transform=\"translate(-43.25, -9.5)\"><rect></rect><foreignObject width=\"86.5\" height=\"19\"><div xmlns=\"http://www.w3.org/1999/xhtml\" style=\"display: inline-block; white-space: nowrap;\"><span class=\"nodeLabel\">Add &amp; Norm</span></div></foreignObject></g></g><g class=\"node default default flowchart-label\" id=\"flowchart-note2-7\" transform=\"translate(546.55078125, 313)\"><rect class=\"basic label-container\" style=\"fill:#f3f3f3;stroke:#f3f3f3;stroke-width:2px;\" rx=\"5\" ry=\"5\" x=\"-16.6171875\" y=\"-17\" width=\"33.234375\" height=\"34\"></rect><g class=\"label\" style=\"\" transform=\"translate(-9.1171875, -9.5)\"><rect></rect><foreignObject width=\"18.234375\" height=\"19\"><div xmlns=\"http://www.w3.org/1999/xhtml\" style=\"display: inline-block; white-space: nowrap;\"><span class=\"nodeLabel\">Nx</span></div></foreignObject></g></g><g class=\"node default default flowchart-label\" id=\"flowchart-Add_Norm1-13\" transform=\"translate(103.65234375, 981)\"><rect class=\"basic label-container\" style=\"fill:#eff9b3;\" rx=\"5\" ry=\"5\" x=\"-50.75\" y=\"-17\" width=\"101.5\" height=\"34\"></rect><g class=\"label\" style=\"\" transform=\"translate(-43.25, -9.5)\"><rect></rect><foreignObject width=\"86.5\" height=\"19\"><div xmlns=\"http://www.w3.org/1999/xhtml\" style=\"display: inline-block; white-space: nowrap;\"><span class=\"nodeLabel\">Add &amp; Norm</span></div></foreignObject></g></g><g class=\"node default default flowchart-label\" id=\"flowchart-Multi_Head_Attention-10\" transform=\"translate(144.4296875, 1074.5)\"><rect class=\"basic label-container\" style=\"fill:#ffe3b7;\" rx=\"5\" ry=\"5\" x=\"-46.5546875\" y=\"-26.5\" width=\"93.109375\" height=\"53\"></rect><g class=\"label\" style=\"\" transform=\"translate(-39.0546875, -19)\"><rect></rect><foreignObject width=\"78.109375\" height=\"38\"><div xmlns=\"http://www.w3.org/1999/xhtml\" style=\"display: inline-block; white-space: nowrap;\"><span class=\"nodeLabel\">Multi-Head<br/>Attention</span></div></foreignObject></g></g><g class=\"node default default flowchart-label\" id=\"flowchart-Feed_Forward-18\" transform=\"translate(152.23046875, 834)\"><rect class=\"basic label-container\" style=\"fill:#bae9f9;\" rx=\"5\" ry=\"5\" x=\"-36.828125\" y=\"-26.5\" width=\"73.65625\" height=\"53\"></rect><g class=\"label\" style=\"\" transform=\"translate(-29.328125, -19)\"><rect></rect><foreignObject width=\"58.65625\" height=\"38\"><div xmlns=\"http://www.w3.org/1999/xhtml\" style=\"display: inline-block; white-space: nowrap;\"><span class=\"nodeLabel\">Feed<br/>Forward</span></div></foreignObject></g></g><g class=\"node default default flowchart-label\" id=\"flowchart-Add_Norm2-14\" transform=\"translate(103.65234375, 731)\"><rect class=\"basic label-container\" style=\"fill:#eff9b3;\" rx=\"5\" ry=\"5\" x=\"-50.75\" y=\"-17\" width=\"101.5\" height=\"34\"></rect><g class=\"label\" style=\"\" transform=\"translate(-43.25, -9.5)\"><rect></rect><foreignObject width=\"86.5\" height=\"19\"><div xmlns=\"http://www.w3.org/1999/xhtml\" style=\"display: inline-block; white-space: nowrap;\"><span class=\"nodeLabel\">Add &amp; Norm</span></div></foreignObject></g></g><g class=\"node default default flowchart-label\" id=\"flowchart-note-6\" transform=\"translate(221.01953125, 731)\"><rect class=\"basic label-container\" style=\"fill:#f3f3f3;stroke:#f3f3f3;stroke-width:2px;\" rx=\"5\" ry=\"5\" x=\"-16.6171875\" y=\"-17\" width=\"33.234375\" height=\"34\"></rect><g class=\"label\" style=\"\" transform=\"translate(-9.1171875, -9.5)\"><rect></rect><foreignObject width=\"18.234375\" height=\"19\"><div xmlns=\"http://www.w3.org/1999/xhtml\" style=\"display: inline-block; white-space: nowrap;\"><span class=\"nodeLabel\">Nx</span></div></foreignObject></g></g><g class=\"node default default flowchart-label\" id=\"flowchart-Inputs-0\" transform=\"translate(247.59765625, 1418)\"><rect class=\"basic label-container\" style=\"fill:#ffffff;stroke:#ffffff;stroke-width:2px;\" rx=\"0\" ry=\"0\" x=\"-29.3359375\" y=\"-17\" width=\"58.671875\" height=\"34\"></rect><g class=\"label\" style=\"\" transform=\"translate(-21.8359375, -9.5)\"><rect></rect><foreignObject width=\"43.671875\" height=\"19\"><div xmlns=\"http://www.w3.org/1999/xhtml\" style=\"display: inline-block; white-space: nowrap;\"><span class=\"nodeLabel\">Inputs</span></div></foreignObject></g></g><g class=\"node default default flowchart-label\" id=\"flowchart-Outputs-1\" transform=\"translate(390.203125, 1221.5)\"><rect class=\"basic label-container\" style=\"fill:#ffffff;stroke:#ffffff;stroke-width:2px;\" rx=\"5\" ry=\"5\" x=\"-57.578125\" y=\"-26.5\" width=\"115.15625\" height=\"53\"></rect><g class=\"label\" style=\"\" transform=\"translate(-50.078125, -19)\"><rect></rect><foreignObject width=\"100.15625\" height=\"38\"><div xmlns=\"http://www.w3.org/1999/xhtml\" style=\"display: inline-block; white-space: nowrap;\"><span class=\"nodeLabel\">Outputs<br/>(shifted right)</span></div></foreignObject></g></g><g class=\"node default default flowchart-label\" id=\"flowchart-A1-2\" transform=\"translate(170.9921875, 1221.5)\"><rect class=\"basic label-container\" style=\"fill:#ffffff;\" rx=\"5\" ry=\"5\" x=\"-11.6953125\" y=\"-17\" width=\"23.390625\" height=\"34\"></rect><g class=\"label\" style=\"\" transform=\"translate(-4.1953125, -9.5)\"><rect></rect><foreignObject width=\"8.390625\" height=\"19\"><div xmlns=\"http://www.w3.org/1999/xhtml\" style=\"display: inline-block; white-space: nowrap;\"><span class=\"nodeLabel\">+</span></div></foreignObject></g></g><g class=\"node default default flowchart-label\" id=\"flowchart-A2-3\" transform=\"translate(459.65625, 981)\"><rect class=\"basic label-container\" style=\"fill:#ffffff;\" rx=\"5\" ry=\"5\" x=\"-11.6953125\" y=\"-17\" width=\"23.390625\" height=\"34\"></rect><g class=\"label\" style=\"\" transform=\"translate(-4.1953125, -9.5)\"><rect></rect><foreignObject width=\"8.390625\" height=\"19\"><div xmlns=\"http://www.w3.org/1999/xhtml\" style=\"display: inline-block; white-space: nowrap;\"><span class=\"nodeLabel\">+</span></div></foreignObject></g></g><g class=\"node default default flowchart-label\" id=\"flowchart-Input_Embedding-4\" transform=\"translate(247.59765625, 1324.5)\"><rect class=\"basic label-container\" style=\"fill:#ffdfe0;\" rx=\"5\" ry=\"5\" x=\"-46.828125\" y=\"-26.5\" width=\"93.65625\" height=\"53\"></rect><g class=\"label\" style=\"\" transform=\"translate(-39.328125, -19)\"><rect></rect><foreignObject width=\"78.65625\" height=\"38\"><div xmlns=\"http://www.w3.org/1999/xhtml\" style=\"display: inline-block; white-space: nowrap;\"><span class=\"nodeLabel\">Input<br/>Embedding</span></div></foreignObject></g></g><g class=\"node default default flowchart-label\" id=\"flowchart-Output_Embedding-5\" transform=\"translate(390.203125, 1074.5)\"><rect class=\"basic label-container\" style=\"fill:#ffdfe0;\" rx=\"5\" ry=\"5\" x=\"-46.828125\" y=\"-26.5\" width=\"93.65625\" height=\"53\"></rect><g class=\"label\" style=\"\" transform=\"translate(-39.328125, -19)\"><rect></rect><foreignObject width=\"78.65625\" height=\"38\"><div xmlns=\"http://www.w3.org/1999/xhtml\" style=\"display: inline-block; white-space: nowrap;\"><span class=\"nodeLabel\">Output<br/>Embedding</span></div></foreignObject></g></g><g class=\"node default default flowchart-label\" id=\"flowchart-Positional_Encoding-8\" transform=\"translate(108.69140625, 1324.5)\"><rect class=\"basic label-container\" style=\"fill:#ffffff;stroke:#ffffff;stroke-width:2px;\" rx=\"5\" ry=\"5\" x=\"-42.078125\" y=\"-26.5\" width=\"84.15625\" height=\"53\"></rect><g class=\"label\" style=\"\" transform=\"translate(-34.578125, -19)\"><rect></rect><foreignObject width=\"69.15625\" height=\"38\"><div xmlns=\"http://www.w3.org/1999/xhtml\" style=\"display: inline-block; white-space: nowrap;\"><span class=\"nodeLabel\">Positional<br/>Encoding</span></div></foreignObject></g></g><g class=\"node default default flowchart-label\" id=\"flowchart-Positional_Encoding2-9\" transform=\"translate(529.109375, 1074.5)\"><rect class=\"basic label-container\" style=\"fill:#ffffff;stroke:#ffffff;stroke-width:2px;\" rx=\"5\" ry=\"5\" x=\"-42.078125\" y=\"-26.5\" width=\"84.15625\" height=\"53\"></rect><g class=\"label\" style=\"\" transform=\"translate(-34.578125, -19)\"><rect></rect><foreignObject width=\"69.15625\" height=\"38\"><div xmlns=\"http://www.w3.org/1999/xhtml\" style=\"display: inline-block; white-space: nowrap;\"><span class=\"nodeLabel\">Positional<br/>Encoding</span></div></foreignObject></g></g><g class=\"node default default flowchart-label\" id=\"flowchart-Linear-22\" transform=\"translate(417.06640625, 204)\"><rect class=\"basic label-container\" style=\"fill:#dadfed;\" rx=\"5\" ry=\"5\" x=\"-29.8828125\" y=\"-17\" width=\"59.765625\" height=\"34\"></rect><g class=\"label\" style=\"\" transform=\"translate(-22.3828125, -9.5)\"><rect></rect><foreignObject width=\"44.765625\" height=\"19\"><div xmlns=\"http://www.w3.org/1999/xhtml\" style=\"display: inline-block; white-space: nowrap;\"><span class=\"nodeLabel\">Linear</span></div></foreignObject></g></g><g class=\"node default default flowchart-label\" id=\"flowchart-Softmax-23\" transform=\"translate(417.06640625, 120)\"><rect class=\"basic label-container\" style=\"fill:#c7ebcd;\" rx=\"5\" ry=\"5\" x=\"-36.625\" y=\"-17\" width=\"73.25\" height=\"34\"></rect><g class=\"label\" style=\"\" transform=\"translate(-29.125, -9.5)\"><rect></rect><foreignObject width=\"58.25\" height=\"19\"><div xmlns=\"http://www.w3.org/1999/xhtml\" style=\"display: inline-block; white-space: nowrap;\"><span class=\"nodeLabel\">Softmax</span></div></foreignObject></g></g><g class=\"node default default flowchart-label\" id=\"flowchart-Output_Probablities-24\" transform=\"translate(417.06640625, 26.5)\"><rect class=\"basic label-container\" style=\"fill:#ffffff;stroke:#ffffff;stroke-width:2px;\" rx=\"5\" ry=\"5\" x=\"-49.8046875\" y=\"-26.5\" width=\"99.609375\" height=\"53\"></rect><g class=\"label\" style=\"\" transform=\"translate(-42.3046875, -19)\"><rect></rect><foreignObject width=\"84.609375\" height=\"38\"><div xmlns=\"http://www.w3.org/1999/xhtml\" style=\"display: inline-block; white-space: nowrap;\"><span class=\"nodeLabel\">Output<br/>Probablities</span></div></foreignObject></g></g></g></g></g><style>@import url(\"https://cdnjs.cloudflare.com/ajax/libs/font-awesome/6.4.0/css/all.min.css\");</style></svg>"
            ]
          },
          "metadata": {}
        }
      ]
    },
    {
      "cell_type": "markdown",
      "source": [
        "K, Q and V\n",
        "- the building block: Multi-Head Attention and Masked Multi-Head Attention both have 3 inputs. In my mermaid graph above, it can only draw 1 arrow. In fact it should have 3 arrows, which stand for  K, Q and V.\n",
        "- in decoder, the Multi-Head Attention takes K, V from encoder, and Q from the decoder's Masked Multi-Head Attention.\n",
        "\n",
        "Skip connections\n",
        "- line from \"+\" directly to \"Add & Norm\"\n",
        "- line from \"Add & Norm\" directly to the above \"Add & Norm\"\n",
        "\n",
        "Nx\n",
        "  - the encoder and decoder will be repeated N times\n",
        "  - the encoder will be sending output to upper encoder\n",
        "  - the final encoder output will be sent to the decoder\n"
      ],
      "metadata": {
        "id": "mksPiq8bWlGF"
      }
    },
    {
      "cell_type": "markdown",
      "source": [
        "<img src=\"https://machinelearningmastery.com/wp-content/uploads/2022/03/dotproduct_1.png\" width=400px/>"
      ],
      "metadata": {
        "id": "RlzRy595-XG-"
      }
    },
    {
      "cell_type": "code",
      "source": [
        "#@title Encoder/Decoder\n",
        "mermaid('''\n",
        "%%{init: {'theme': 'base', 'themeVariables': { 'primaryColor': '#f3f3f3', 'primaryBorderColor':'#000000'}}}%%\n",
        "\n",
        "graph BT;\n",
        "\n",
        "style Q fill:#ffffff,stroke:#ffffff,stroke-width:2px;\n",
        "style K fill:#ffffff,stroke:#ffffff,stroke-width:2px;\n",
        "style V fill:#ffffff,stroke:#ffffff,stroke-width:2px;\n",
        "\n",
        "\n",
        "\n",
        "V --> MatMul2(\"MatMul\")\n",
        "K --> MatMul(\"MatMul\")\n",
        "Q --> MatMul(\"MatMul\")\n",
        "\n",
        "\n",
        "MatMul --> Scale\n",
        "Scale --> Mask(\"Mask (opt.)\")\n",
        "Mask --> SoftMax(\"SoftMax\")\n",
        "SoftMax --> MatMul2\n",
        "\n",
        "\n",
        "''', 0.75)"
      ],
      "metadata": {
        "colab": {
          "base_uri": "https://localhost:8080/",
          "height": 491
        },
        "id": "HnULTpelMCSV",
        "outputId": "5e779d47-cbaa-409c-d474-c0c16408acd5",
        "cellView": "form"
      },
      "execution_count": null,
      "outputs": [
        {
          "output_type": "display_data",
          "data": {
            "text/plain": [
              "<IPython.core.display.HTML object>"
            ],
            "text/html": [
              "<svg transform=\"scale(0.75)\" id=\"mermaid-svg\" width=\"100%\" xmlns=\"http://www.w3.org/2000/svg\" style=\"max-width: 176.4765625px;\" viewBox=\"-8 -8 176.4765625 470\" role=\"graphics-document document\" aria-roledescription=\"flowchart-v2\" xmlns:xlink=\"http://www.w3.org/1999/xlink\"><style>#mermaid-svg{font-family:\"trebuchet ms\",verdana,arial,sans-serif;font-size:16px;fill:#333;}#mermaid-svg .error-icon{fill:hsl(180, 0%, 100%);}#mermaid-svg .error-text{fill:rgb(0, 0, 0);stroke:rgb(0, 0, 0);}#mermaid-svg .edge-thickness-normal{stroke-width:2px;}#mermaid-svg .edge-thickness-thick{stroke-width:3.5px;}#mermaid-svg .edge-pattern-solid{stroke-dasharray:0;}#mermaid-svg .edge-pattern-dashed{stroke-dasharray:3;}#mermaid-svg .edge-pattern-dotted{stroke-dasharray:2;}#mermaid-svg .marker{fill:#0b0b0b;stroke:#0b0b0b;}#mermaid-svg .marker.cross{stroke:#0b0b0b;}#mermaid-svg svg{font-family:\"trebuchet ms\",verdana,arial,sans-serif;font-size:16px;}#mermaid-svg .label{font-family:\"trebuchet ms\",verdana,arial,sans-serif;color:#333;}#mermaid-svg .cluster-label text{fill:rgb(0, 0, 0);}#mermaid-svg .cluster-label span,#mermaid-svg p{color:rgb(0, 0, 0);}#mermaid-svg .label text,#mermaid-svg span,#mermaid-svg p{fill:#333;color:#333;}#mermaid-svg .node rect,#mermaid-svg .node circle,#mermaid-svg .node ellipse,#mermaid-svg .node polygon,#mermaid-svg .node path{fill:#f3f3f3;stroke:#000000;stroke-width:1px;}#mermaid-svg .flowchart-label text{text-anchor:middle;}#mermaid-svg .node .label{text-align:center;}#mermaid-svg .node.clickable{cursor:pointer;}#mermaid-svg .arrowheadPath{fill:#0b0b0b;}#mermaid-svg .edgePath .path{stroke:#0b0b0b;stroke-width:2.0px;}#mermaid-svg .flowchart-link{stroke:#0b0b0b;fill:none;}#mermaid-svg .edgeLabel{background-color:hsl(-120, 0%, 95.2941176471%);text-align:center;}#mermaid-svg .edgeLabel rect{opacity:0.5;background-color:hsl(-120, 0%, 95.2941176471%);fill:hsl(-120, 0%, 95.2941176471%);}#mermaid-svg .labelBkg{background-color:rgba(243.0000000001, 243.0000000001, 243.0000000001, 0.5);}#mermaid-svg .cluster rect{fill:hsl(180, 0%, 100%);stroke:hsl(180, 0%, 90%);stroke-width:1px;}#mermaid-svg .cluster text{fill:rgb(0, 0, 0);}#mermaid-svg .cluster span,#mermaid-svg p{color:rgb(0, 0, 0);}#mermaid-svg div.mermaidTooltip{position:absolute;text-align:center;max-width:200px;padding:2px;font-family:\"trebuchet ms\",verdana,arial,sans-serif;font-size:12px;background:hsl(180, 0%, 100%);border:1px solid hsl(180, 0%, 90%);border-radius:2px;pointer-events:none;z-index:100;}#mermaid-svg .flowchartTitleText{text-anchor:middle;font-size:18px;fill:#333;}#mermaid-svg :root{--mermaid-font-family:\"trebuchet ms\",verdana,arial,sans-serif;}</style><g><marker id=\"mermaid-svg_flowchart-pointEnd\" class=\"marker flowchart\" viewBox=\"0 0 10 10\" refX=\"6\" refY=\"5\" markerUnits=\"userSpaceOnUse\" markerWidth=\"12\" markerHeight=\"12\" orient=\"auto\"><path d=\"M 0 0 L 10 5 L 0 10 z\" class=\"arrowMarkerPath\" style=\"stroke-width: 1; stroke-dasharray: 1, 0;\"></path></marker><marker id=\"mermaid-svg_flowchart-pointStart\" class=\"marker flowchart\" viewBox=\"0 0 10 10\" refX=\"4.5\" refY=\"5\" markerUnits=\"userSpaceOnUse\" markerWidth=\"12\" markerHeight=\"12\" orient=\"auto\"><path d=\"M 0 5 L 10 10 L 10 0 z\" class=\"arrowMarkerPath\" style=\"stroke-width: 1; stroke-dasharray: 1, 0;\"></path></marker><marker id=\"mermaid-svg_flowchart-circleEnd\" class=\"marker flowchart\" viewBox=\"0 0 10 10\" refX=\"11\" refY=\"5\" markerUnits=\"userSpaceOnUse\" markerWidth=\"11\" markerHeight=\"11\" orient=\"auto\"><circle cx=\"5\" cy=\"5\" r=\"5\" class=\"arrowMarkerPath\" style=\"stroke-width: 1; stroke-dasharray: 1, 0;\"></circle></marker><marker id=\"mermaid-svg_flowchart-circleStart\" class=\"marker flowchart\" viewBox=\"0 0 10 10\" refX=\"-1\" refY=\"5\" markerUnits=\"userSpaceOnUse\" markerWidth=\"11\" markerHeight=\"11\" orient=\"auto\"><circle cx=\"5\" cy=\"5\" r=\"5\" class=\"arrowMarkerPath\" style=\"stroke-width: 1; stroke-dasharray: 1, 0;\"></circle></marker><marker id=\"mermaid-svg_flowchart-crossEnd\" class=\"marker cross flowchart\" viewBox=\"0 0 11 11\" refX=\"12\" refY=\"5.2\" markerUnits=\"userSpaceOnUse\" markerWidth=\"11\" markerHeight=\"11\" orient=\"auto\"><path d=\"M 1,1 l 9,9 M 10,1 l -9,9\" class=\"arrowMarkerPath\" style=\"stroke-width: 2; stroke-dasharray: 1, 0;\"></path></marker><marker id=\"mermaid-svg_flowchart-crossStart\" class=\"marker cross flowchart\" viewBox=\"0 0 11 11\" refX=\"-1\" refY=\"5.2\" markerUnits=\"userSpaceOnUse\" markerWidth=\"11\" markerHeight=\"11\" orient=\"auto\"><path d=\"M 1,1 l 9,9 M 10,1 l -9,9\" class=\"arrowMarkerPath\" style=\"stroke-width: 2; stroke-dasharray: 1, 0;\"></path></marker><g class=\"root\"><g class=\"clusters\"></g><g class=\"edgePaths\"><path d=\"M12.203,84L12.203,79.833C12.203,75.667,12.203,67.333,16.387,59.575C20.571,51.817,28.939,44.635,33.122,41.043L37.306,37.452\" id=\"L-V-MatMul2-0\" class=\" edge-thickness-normal edge-pattern-solid flowchart-link LS-V LE-MatMul2\" style=\"fill:none;\" marker-end=\"url(#mermaid-svg_flowchart-pointEnd)\"></path><path d=\"M72.555,420L72.555,415.833C72.555,411.667,72.555,403.333,75.687,395.659C78.82,387.984,85.085,380.969,88.218,377.461L91.35,373.953\" id=\"L-K-MatMul-0\" class=\" edge-thickness-normal edge-pattern-solid flowchart-link LS-K LE-MatMul\" style=\"fill:none;\" marker-end=\"url(#mermaid-svg_flowchart-pointEnd)\"></path><path d=\"M147.57,420L147.57,415.833C147.57,411.667,147.57,403.333,144.438,395.659C141.305,387.984,135.04,380.969,131.907,377.461L128.775,373.953\" id=\"L-Q-MatMul-0\" class=\" edge-thickness-normal edge-pattern-solid flowchart-link LS-Q LE-MatMul\" style=\"fill:none;\" marker-end=\"url(#mermaid-svg_flowchart-pointEnd)\"></path><path d=\"M110.063,336L110.063,331.833C110.063,327.667,110.063,319.333,110.063,311.883C110.063,304.433,110.063,297.867,110.063,294.583L110.063,291.3\" id=\"L-MatMul-Scale-0\" class=\" edge-thickness-normal edge-pattern-solid flowchart-link LS-MatMul LE-Scale\" style=\"fill:none;\" marker-end=\"url(#mermaid-svg_flowchart-pointEnd)\"></path><path d=\"M110.063,252L110.063,247.833C110.063,243.667,110.063,235.333,110.063,227.883C110.063,220.433,110.063,213.867,110.063,210.583L110.063,207.3\" id=\"L-Scale-Mask-0\" class=\" edge-thickness-normal edge-pattern-solid flowchart-link LS-Scale LE-Mask\" style=\"fill:none;\" marker-end=\"url(#mermaid-svg_flowchart-pointEnd)\"></path><path d=\"M110.063,168L110.063,163.833C110.063,159.667,110.063,151.333,110.063,143.883C110.063,136.433,110.063,129.867,110.063,126.583L110.063,123.3\" id=\"L-Mask-SoftMax-0\" class=\" edge-thickness-normal edge-pattern-solid flowchart-link LS-Mask LE-SoftMax\" style=\"fill:none;\" marker-end=\"url(#mermaid-svg_flowchart-pointEnd)\"></path><path d=\"M110.063,84L110.063,79.833C110.063,75.667,110.063,67.333,105.879,59.575C101.695,51.817,93.327,44.635,89.143,41.043L84.959,37.452\" id=\"L-SoftMax-MatMul2-0\" class=\" edge-thickness-normal edge-pattern-solid flowchart-link LS-SoftMax LE-MatMul2\" style=\"fill:none;\" marker-end=\"url(#mermaid-svg_flowchart-pointEnd)\"></path></g><g class=\"edgeLabels\"><g class=\"edgeLabel\"><g class=\"label\" transform=\"translate(0, 0)\"><foreignObject width=\"0\" height=\"0\"><div xmlns=\"http://www.w3.org/1999/xhtml\" style=\"display: inline-block; white-space: nowrap;\"><span class=\"edgeLabel\"></span></div></foreignObject></g></g><g class=\"edgeLabel\"><g class=\"label\" transform=\"translate(0, 0)\"><foreignObject width=\"0\" height=\"0\"><div xmlns=\"http://www.w3.org/1999/xhtml\" style=\"display: inline-block; white-space: nowrap;\"><span class=\"edgeLabel\"></span></div></foreignObject></g></g><g class=\"edgeLabel\"><g class=\"label\" transform=\"translate(0, 0)\"><foreignObject width=\"0\" height=\"0\"><div xmlns=\"http://www.w3.org/1999/xhtml\" style=\"display: inline-block; white-space: nowrap;\"><span class=\"edgeLabel\"></span></div></foreignObject></g></g><g class=\"edgeLabel\"><g class=\"label\" transform=\"translate(0, 0)\"><foreignObject width=\"0\" height=\"0\"><div xmlns=\"http://www.w3.org/1999/xhtml\" style=\"display: inline-block; white-space: nowrap;\"><span class=\"edgeLabel\"></span></div></foreignObject></g></g><g class=\"edgeLabel\"><g class=\"label\" transform=\"translate(0, 0)\"><foreignObject width=\"0\" height=\"0\"><div xmlns=\"http://www.w3.org/1999/xhtml\" style=\"display: inline-block; white-space: nowrap;\"><span class=\"edgeLabel\"></span></div></foreignObject></g></g><g class=\"edgeLabel\"><g class=\"label\" transform=\"translate(0, 0)\"><foreignObject width=\"0\" height=\"0\"><div xmlns=\"http://www.w3.org/1999/xhtml\" style=\"display: inline-block; white-space: nowrap;\"><span class=\"edgeLabel\"></span></div></foreignObject></g></g><g class=\"edgeLabel\"><g class=\"label\" transform=\"translate(0, 0)\"><foreignObject width=\"0\" height=\"0\"><div xmlns=\"http://www.w3.org/1999/xhtml\" style=\"display: inline-block; white-space: nowrap;\"><span class=\"edgeLabel\"></span></div></foreignObject></g></g></g><g class=\"nodes\"><g class=\"node default default flowchart-label\" id=\"flowchart-Q-0\" transform=\"translate(147.5703125, 437)\"><rect class=\"basic label-container\" style=\"fill:#ffffff;stroke:#ffffff;stroke-width:2px;\" rx=\"0\" ry=\"0\" x=\"-12.90625\" y=\"-17\" width=\"25.8125\" height=\"34\"></rect><g class=\"label\" style=\"\" transform=\"translate(-5.40625, -9.5)\"><rect></rect><foreignObject width=\"10.8125\" height=\"19\"><div xmlns=\"http://www.w3.org/1999/xhtml\" style=\"display: inline-block; white-space: nowrap;\"><span class=\"nodeLabel\">Q</span></div></foreignObject></g></g><g class=\"node default default flowchart-label\" id=\"flowchart-K-1\" transform=\"translate(72.5546875, 437)\"><rect class=\"basic label-container\" style=\"fill:#ffffff;stroke:#ffffff;stroke-width:2px;\" rx=\"0\" ry=\"0\" x=\"-12.109375\" y=\"-17\" width=\"24.21875\" height=\"34\"></rect><g class=\"label\" style=\"\" transform=\"translate(-4.609375, -9.5)\"><rect></rect><foreignObject width=\"9.21875\" height=\"19\"><div xmlns=\"http://www.w3.org/1999/xhtml\" style=\"display: inline-block; white-space: nowrap;\"><span class=\"nodeLabel\">K</span></div></foreignObject></g></g><g class=\"node default default flowchart-label\" id=\"flowchart-V-2\" transform=\"translate(12.203125, 101)\"><rect class=\"basic label-container\" style=\"fill:#ffffff;stroke:#ffffff;stroke-width:2px;\" rx=\"0\" ry=\"0\" x=\"-12.203125\" y=\"-17\" width=\"24.40625\" height=\"34\"></rect><g class=\"label\" style=\"\" transform=\"translate(-4.703125, -9.5)\"><rect></rect><foreignObject width=\"9.40625\" height=\"19\"><div xmlns=\"http://www.w3.org/1999/xhtml\" style=\"display: inline-block; white-space: nowrap;\"><span class=\"nodeLabel\">V</span></div></foreignObject></g></g><g class=\"node default default flowchart-label\" id=\"flowchart-MatMul2-4\" transform=\"translate(61.1328125, 17)\"><rect class=\"basic label-container\" style=\"\" rx=\"5\" ry=\"5\" x=\"-32.9609375\" y=\"-17\" width=\"65.921875\" height=\"34\"></rect><g class=\"label\" style=\"\" transform=\"translate(-25.4609375, -9.5)\"><rect></rect><foreignObject width=\"50.921875\" height=\"19\"><div xmlns=\"http://www.w3.org/1999/xhtml\" style=\"display: inline-block; white-space: nowrap;\"><span class=\"nodeLabel\">MatMul</span></div></foreignObject></g></g><g class=\"node default default flowchart-label\" id=\"flowchart-MatMul-6\" transform=\"translate(110.0625, 353)\"><rect class=\"basic label-container\" style=\"\" rx=\"5\" ry=\"5\" x=\"-32.9609375\" y=\"-17\" width=\"65.921875\" height=\"34\"></rect><g class=\"label\" style=\"\" transform=\"translate(-25.4609375, -9.5)\"><rect></rect><foreignObject width=\"50.921875\" height=\"19\"><div xmlns=\"http://www.w3.org/1999/xhtml\" style=\"display: inline-block; white-space: nowrap;\"><span class=\"nodeLabel\">MatMul</span></div></foreignObject></g></g><g class=\"node default default flowchart-label\" id=\"flowchart-Scale-10\" transform=\"translate(110.0625, 269)\"><rect class=\"basic label-container\" style=\"\" rx=\"0\" ry=\"0\" x=\"-26.234375\" y=\"-17\" width=\"52.46875\" height=\"34\"></rect><g class=\"label\" style=\"\" transform=\"translate(-18.734375, -9.5)\"><rect></rect><foreignObject width=\"37.46875\" height=\"19\"><div xmlns=\"http://www.w3.org/1999/xhtml\" style=\"display: inline-block; white-space: nowrap;\"><span class=\"nodeLabel\">Scale</span></div></foreignObject></g></g><g class=\"node default default flowchart-label\" id=\"flowchart-Mask-12\" transform=\"translate(110.0625, 185)\"><rect class=\"basic label-container\" style=\"\" rx=\"5\" ry=\"5\" x=\"-47.796875\" y=\"-17\" width=\"95.59375\" height=\"34\"></rect><g class=\"label\" style=\"\" transform=\"translate(-40.296875, -9.5)\"><rect></rect><foreignObject width=\"80.59375\" height=\"19\"><div xmlns=\"http://www.w3.org/1999/xhtml\" style=\"display: inline-block; white-space: nowrap;\"><span class=\"nodeLabel\">Mask (opt.)</span></div></foreignObject></g></g><g class=\"node default default flowchart-label\" id=\"flowchart-SoftMax-14\" transform=\"translate(110.0625, 101)\"><rect class=\"basic label-container\" style=\"\" rx=\"5\" ry=\"5\" x=\"-35.65625\" y=\"-17\" width=\"71.3125\" height=\"34\"></rect><g class=\"label\" style=\"\" transform=\"translate(-28.15625, -9.5)\"><rect></rect><foreignObject width=\"56.3125\" height=\"19\"><div xmlns=\"http://www.w3.org/1999/xhtml\" style=\"display: inline-block; white-space: nowrap;\"><span class=\"nodeLabel\">SoftMax</span></div></foreignObject></g></g></g></g></g><style>@import url(\"https://cdnjs.cloudflare.com/ajax/libs/font-awesome/6.4.0/css/all.min.css\");</style></svg>"
            ]
          },
          "metadata": {}
        }
      ]
    },
    {
      "cell_type": "markdown",
      "source": [
        "\n",
        "<img src=\"https://i.stack.imgur.com/1JdN6.png\" width=400px />"
      ],
      "metadata": {
        "id": "uzBbbRvc5xhc"
      }
    },
    {
      "cell_type": "code",
      "source": [
        "import torch\n",
        "import torch.nn as nn\n",
        "\n",
        "class SelfAttention(nn.Module):\n",
        "    def __init__(self, embed_size, heads):\n",
        "        super(SelfAttention, self).__init__()\n",
        "        self.embed_size = embed_size\n",
        "        self.heads = heads\n",
        "        self.head_dim = embed_size // heads\n",
        "\n",
        "        assert (\n",
        "            self.head_dim * heads == embed_size\n",
        "        ), \"Embed size needs to be divisible by heads\"\n",
        "\n",
        "        self.values = nn.Linear(self.head_dim, self.head_dim, bias=False)\n",
        "        self.keys = nn.Linear(self.head_dim, self.head_dim, bias=False)\n",
        "        self.queries = nn.Linear(self.head_dim, self.head_dim, bias=False)\n",
        "        self.fc_out = nn.Linear(heads * self.head_dim, embed_size)\n",
        "\n",
        "    def forward(self, values, keys, queries, mask):\n",
        "        N = queries.shape[0]\n",
        "        value_len, key_len, query_len = values.shape[1], keys.shape[1], queries.shape[1]\n",
        "\n",
        "        # Split embedding into self.heads pieces\n",
        "        values = values.reshape(N, value_len, self.heads, self.head_dim)\n",
        "        keys = keys.reshape(N, key_len, self.heads, self.head_dim)\n",
        "        queries = queries.reshape(N, query_len, self.heads, self.head_dim)\n",
        "\n",
        "        values = self.values(values)\n",
        "        keys = self.keys(keys)\n",
        "        queries = self.queries(queries)\n",
        "\n",
        "        energy = torch.einsum(\"nqhd,nkhd->nhqk\", [queries, keys])\n",
        "        # queries shape: (N, query_len, heads, heads_dim)\n",
        "        # keys shape: (N, key_len, heads, heads_dim)\n",
        "        # energy = shape: (N, heads, query_len, key_len)\n",
        "        if mask is not None:\n",
        "            energy = energy.masked_fill(mask == 0, float(\"-1e20\"))\n",
        "\n",
        "        # dim=3 means normalize across key_len\n",
        "        attention = torch.softmax(energy / (self.embed_size ** (1 / 2)), dim=3)\n",
        "\n",
        "        out = torch.einsum(\"nhql,nlhd->nqhd\", [attention, values]).reshape(\n",
        "            N, query_len, self.heads * self.head_dim\n",
        "        )\n",
        "        # key_len == value_len: l\n",
        "        # attention shape: (N, shape, query_le, key_len)\n",
        "        # values shape: (N, value_len, heads, heads_dim)\n",
        "        # after einsum (N, query_len, heads, head_dim) then flatten last two dimensions\n",
        "\n",
        "        out = self.fc_out(out)\n",
        "        return out\n",
        "\n",
        "class TransformerBlock(nn.Module):\n",
        "    def __init__(self, embed_size, heads, dropout, forward_expansion):\n",
        "        super(TransformerBlock, self).__init__()\n",
        "        self.attention = SelfAttention(embed_size, heads)\n",
        "        self.norm1 = nn.LayerNorm(embed_size)\n",
        "        self.norm2 = nn.LayerNorm(embed_size)\n",
        "\n",
        "        self.feed_forward = nn.Sequential(\n",
        "            nn.Linear(embed_size, forward_expansion*embed_size),\n",
        "            nn.ReLU(),\n",
        "            nn.Linear(forward_expansion*embed_size, embed_size),\n",
        "        )\n",
        "        self.dropout = nn.Dropout(dropout)\n",
        "\n",
        "    def forward(self, value, key, query, mask):\n",
        "      attention = self.attention(value, key, query, mask)\n",
        "\n",
        "      # skip connection is: attention + query\n",
        "      x = self.dropout(self.norm1(attention + query))\n",
        "      feed_forward = self.feed_forward(x)\n",
        "      out = self.dropout(self.norm2(feed_forward + x))\n",
        "\n",
        "      return out\n",
        "\n",
        "class Encoder(nn.Module):\n",
        "    def __init__(self, src_vocab_size, embed_size, num_layers, heads, device, forward_expansion, dropout, max_length):\n",
        "        super(Encoder, self).__init__()\n",
        "        self.embed_size = embed_size\n",
        "        self.device = device\n",
        "        self.word_embedding = nn.Embedding(src_vocab_size, embed_size)\n",
        "        self.position_embedding = nn.Embedding(max_length, embed_size)\n",
        "\n",
        "        self.layers = nn.ModuleList([\n",
        "            TransformerBlock(embed_size, heads, dropout=dropout, forward_expansion=forward_expansion)\n",
        "            for _ in range(num_layers)\n",
        "        ])\n",
        "\n",
        "        self.dropout = nn.Dropout(dropout)\n",
        "\n",
        "    def forward(self, x, mask):\n",
        "        N, seq_length = x.shape\n",
        "        positions = torch.arange(0, seq_length).expand(N, seq_length).to(self.device)\n",
        "\n",
        "        out = self.dropout(self.word_embedding(x) + self.position_embedding(positions))\n",
        "        for layer in self.layers:\n",
        "            out = layer(out, out, out, mask)\n",
        "\n",
        "        return out\n",
        "\n",
        "class DecoderBlock(nn.Module):\n",
        "    def __init__(self, embed_size, heads, forward_expansion, dropout, device):\n",
        "        super(DecoderBlock, self).__init__()\n",
        "        self.attention = SelfAttention(embed_size, heads)\n",
        "        self.norm = nn.LayerNorm(embed_size)\n",
        "        self.transformer_block = TransformerBlock(embed_size, heads, dropout, forward_expansion)\n",
        "        self.dropout = nn.Dropout(dropout)\n",
        "\n",
        "    def forward(self, x, value, key, src_mask, trg_mask):\n",
        "        attention = self.attention(x, x, x, trg_mask)\n",
        "        query = self.dropout(self.norm(attention + x))\n",
        "        out = self.transformer_block(value, key, query, src_mask)\n",
        "        return out\n",
        "\n",
        "class Decoder(nn.Module):\n",
        "    def __init__(self, trg_vocab_size, embed_size, num_layers, heads, forward_expansion, dropout, device, max_length):\n",
        "        super(Decoder, self).__init__()\n",
        "        self.device = device\n",
        "        self.word_embedding = nn.Embedding(trg_vocab_size, embed_size)\n",
        "        self.position_embedding = nn.Embedding(max_length, embed_size)\n",
        "\n",
        "        self.layers = nn.ModuleList([\n",
        "            DecoderBlock(embed_size, heads, forward_expansion, dropout, device)\n",
        "            for _ in range(num_layers)\n",
        "        ])\n",
        "        self.fc_out = nn.Linear(embed_size, trg_vocab_size)\n",
        "        self.dropout = nn.Dropout(dropout)\n",
        "\n",
        "    def forward(self, x, enc_out, src_mask, trg_mask):\n",
        "        N, seq_length = x.shape\n",
        "        positions = torch.arange(0, seq_length).expand(N, seq_length).to(self.device)\n",
        "        x = self.dropout((self.word_embedding(x) + self.position_embedding(positions)))\n",
        "\n",
        "        for layer in self.layers:\n",
        "            x = layer(x, enc_out, enc_out, src_mask, trg_mask)\n",
        "\n",
        "        out = self.fc_out(x)\n",
        "        return out\n",
        "\n",
        "class Transformer(nn.Module):\n",
        "    def __init__(\n",
        "        self,\n",
        "        src_vocab_size,\n",
        "        trg_vocab_size,\n",
        "        src_pad_idx,\n",
        "        trg_pad_idx,\n",
        "        embed_size=256,\n",
        "        num_layers=6,\n",
        "        forward_expansions=4,\n",
        "        heads=8,\n",
        "        dropout=0,\n",
        "        device='cpu',\n",
        "        max_length=100\n",
        "    ):\n",
        "        super(Transformer, self).__init__()\n",
        "        self.encoder = Encoder(\n",
        "            src_vocab_size,\n",
        "            embed_size,\n",
        "            num_layers,\n",
        "            heads,\n",
        "            device,\n",
        "            forward_expansions,\n",
        "            dropout,\n",
        "            max_length\n",
        "        )\n",
        "        self.decoder = Decoder(\n",
        "            trg_vocab_size,\n",
        "            embed_size,\n",
        "            num_layers,\n",
        "            heads,\n",
        "            forward_expansions,\n",
        "            dropout,\n",
        "            device,\n",
        "            max_length\n",
        "        )\n",
        "\n",
        "\n",
        "        self.src_pad_idx = src_pad_idx\n",
        "        self.trg_pad_idx = trg_pad_idx\n",
        "        self.device = device\n",
        "\n",
        "    def make_src_mask(self, src):\n",
        "        src_mask = (src != self.src_pad_idx).unsqueeze(1).unsqueeze(2)\n",
        "        # (N, 1, 1, src_len)\n",
        "        return src_mask.to(self.device)\n",
        "\n",
        "    def make_trg_mask(self, trg):\n",
        "        N, trg_len = trg.shape\n",
        "        trg_mask = torch.tril(torch.ones((trg_len, trg_len))).expand(\n",
        "            N, 1, trg_len, trg_len\n",
        "        )\n",
        "        return trg_mask.to(self.device)\n",
        "\n",
        "    def forward(self, src, trg):\n",
        "        src_mask = self.make_src_mask(src)\n",
        "        trg_mask = self.make_trg_mask(trg)\n",
        "        enc_src = self.encoder(src, src_mask)\n",
        "        out = self.decoder(trg, enc_src, src_mask, trg_mask)\n",
        "        return out\n",
        "\n",
        "x = torch.tensor([[1,5,6,4,3,9,5,2,0], [1,8,7,3,4,5,6,7,2]])\n",
        "trg = torch.tensor([[1,7,4,3,5,9,2,0], [1,5,6,2,4,7,6,2]])\n",
        "src_pad_idx = 0\n",
        "trg_pad_idx = 0\n",
        "device = torch.device('cuda' if torch.cuda.is_available() else 'cpu')\n",
        "src_vocab_size = 10\n",
        "trg_vocab_size = 10\n",
        "model = Transformer(src_vocab_size, trg_vocab_size, src_pad_idx, trg_pad_idx, device=device)\n",
        "\n",
        "out = model(x, trg[:, :-1])\n",
        "print(out.shape)\n"
      ],
      "metadata": {
        "colab": {
          "base_uri": "https://localhost:8080/"
        },
        "id": "Gp53Mu0H1Qf_",
        "outputId": "67899513-6066-4428-f23c-c784ed6e28e9"
      },
      "execution_count": null,
      "outputs": [
        {
          "output_type": "stream",
          "name": "stdout",
          "text": [
            "torch.Size([2, 7, 10])\n"
          ]
        }
      ]
    }
  ]
}