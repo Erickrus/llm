{
  "nbformat": 4,
  "nbformat_minor": 0,
  "metadata": {
    "colab": {
      "provenance": [],
      "authorship_tag": "ABX9TyMODXTKLD4NqTtDvPbfQyQ4",
      "include_colab_link": true
    },
    "kernelspec": {
      "name": "python3",
      "display_name": "Python 3"
    },
    "language_info": {
      "name": "python"
    }
  },
  "cells": [
    {
      "cell_type": "markdown",
      "metadata": {
        "id": "view-in-github",
        "colab_type": "text"
      },
      "source": [
        "<a href=\"https://colab.research.google.com/github/Erickrus/llm/blob/main/Bradley_Terry_model.ipynb\" target=\"_parent\"><img src=\"https://colab.research.google.com/assets/colab-badge.svg\" alt=\"Open In Colab\"/></a>"
      ]
    },
    {
      "cell_type": "markdown",
      "source": [
        "#Bradley–Terry model\n",
        "\n"
      ],
      "metadata": {
        "id": "zSdOj3GxtAd2"
      }
    },
    {
      "cell_type": "markdown",
      "source": [
        "https://en.wikipedia.org/wiki/Bradley%E2%80%93Terry_model\n",
        "\n",
        "\n",
        "The **Bradley–Terry model** is a probability model for the outcome of pairwise comparisons between items, teams, or objects. Given a pair of items $i$ and $j$ drawn from some population, it estimates the probability that the pairwise comparison $i$ > $j$ turns out true, as\n",
        "\n",
        "\n",
        "$ Pr(i>j)={\\frac {p_{i}}{p_{i}+p_{j}}}$\t$(1)$\n",
        "\n",
        "\n",
        "where $p_i$ is a positive real-valued score assigned to individual $i$. The comparison $i$ > $j$ can be read as \"$i$ is preferred to $j$\", \"$i$ ranks higher than $j$\", or \"$i$ beats $j$\", depending on the application.\n",
        "\n",
        "For example, pi might represent the skill of a team in a sports tournament and\n",
        "$Pr(i>j)$ the probability that i wins a game against j.[1][2] Or pi might represent the quality or desirability of a commercial product and\n",
        "$Pr(i>j)$ the probability that a consumer will prefer product i over product j.\n",
        "\n",
        "The Bradley–Terry model can be used in the forward direction to predict outcomes, as described, but is more commonly used in reverse to infer the scores $p_i$ given an observed set of outcomes.[2] In this type of application pi represents some measure of the strength or quality of\n",
        "$i$ and the model lets us estimate the strengths from a series of pairwise comparisons. In a survey of wine preferences, for instance, it might be difficult for respondents to give a complete ranking of a large set of wines, but relatively easy for them to compare sample pairs of wines and say which they feel is better. Based on a set of such pairwise comparisons, the Bradley–Terry model can then be used to derive a full ranking of the wines.\n",
        "\n",
        "Once the values of the scores pi have been calculated, the model can then also be used in the forward direction, for instance to predict the likely outcome of comparisons that have not yet actually occurred. In the wine survey example, for instance, one could calculate the probability that someone will prefer wine\n",
        "$i$ over wine\n",
        "$j$, even if no one in the survey directly compared that particular pair."
      ],
      "metadata": {
        "id": "14Dn_mXjPGGi"
      }
    },
    {
      "cell_type": "markdown",
      "source": [
        "## History and applications\n"
      ],
      "metadata": {
        "id": "yoi6kwRwtYzF"
      }
    },
    {
      "cell_type": "markdown",
      "source": [
        "The model is named after Ralph A. Bradley and Milton E. Terry,[3] who presented it in 1952,[4] although it had already been studied by Ernst Zermelo in the 1920s.[1][5][6] Applications of the model include the ranking of competitors in sports, chess, and other competitions,[7] the ranking of products in paired comparison surveys of consumer choice, analysis of dominance hierarchies within animal and human communities,[8] ranking of journals, ranking of AI models,[9] and estimation of the relevance of documents in machine-learned search engines.[10]"
      ],
      "metadata": {
        "id": "P6p6su3HPIoI"
      }
    },
    {
      "cell_type": "markdown",
      "source": [
        "## Definition\n",
        "\n"
      ],
      "metadata": {
        "id": "iHLJImzRJqya"
      }
    },
    {
      "cell_type": "markdown",
      "source": [
        "The Bradley–Terry model can be parametrized in various ways. Equation (1) is perhaps the most common, but there are a number of others. Bradley and Terry themselves defined exponential score functions\n",
        "$p_{i}=e^{\\beta _{i}}$, so that[2]\n",
        "\n",
        "$Pr(i>j)={\\frac {e^{\\beta _{i}}}{e^{\\beta _{i}}+e^{\\beta _{j}}}}.$\n",
        "\n",
        "Alternatively, one can use a logit, such that[1]\n",
        "\n",
        "$\\operatorname {logit} \\Pr(i>j)=\\log {\\frac {\\Pr(i>j)}{1-\\Pr(i>j)}}=\\log {\\frac {\\Pr(i>j)}{\\Pr(j>i)}}=\\beta _{i}-\\beta _{j},$\n",
        "\n",
        "i.e.\n",
        "$\\operatorname {logit} p=\\log {\\frac {p}{1-p}}$ for\n",
        "$0<p<1$.\n",
        "\n",
        "This formulation highlights the similarity between the Bradley–Terry model and logistic regression. Both employ essentially the same model but in different ways. In logistic regression one typically knows the parameters\n",
        "$\\beta _{i}$ and attempts to infer the functional form of\n",
        "$Pr(i>j)$; in ranking under the Bradley–Terry model one knows the functional form and attempts to infer the parameters.\n",
        "\n",
        "With a scale factor of 400, this is equivalent to the Elo rating system for players with Elo ratings $R_i$ and $R_j$.\n",
        "\n",
        "$Pr(i>j)={\\frac {e^{R_{i}/400}}{e^{R_{i}/400}+e^{R_{j}/400}}}={\\frac {1}{1+e^{(R_{j}-R_{i})/400}}}.$"
      ],
      "metadata": {
        "id": "4IL2gxekPLnV"
      }
    },
    {
      "cell_type": "markdown",
      "source": [
        "##Estimating the parameters\n",
        "\n",
        "\n"
      ],
      "metadata": {
        "id": "N1CcIJIJK2cN"
      }
    },
    {
      "cell_type": "markdown",
      "source": [
        "The most common application of the Bradley–Terry model is to infer the values of the parameters\n",
        "$p_{i}$ given an observed set of outcomes\n",
        "$i>j$, such as wins and losses in a competition. The simplest way to estimate the parameters is by maximum likelihood estimation, i.e., by maximizing the likelihood of the observed outcomes given the model and parameter values.\n",
        "\n",
        "Suppose we know the outcomes of a set of pairwise competitions between a certain group of individuals, and let wij be the number of times individual i beats individual j. Then the likelihood of this set of outcomes within the Bradley–Terry model is\n",
        "$\\prod _{ij}[\\Pr(i>j)]^{w_{ij}}$ and the log-likelihood of the parameter vector p = [p1, ..., pn] is[1]\n",
        "\n",
        "${\\begin{aligned}{\\mathcal {l}}(\\mathbf {p} )&=\\ln \\prod _{ij}{{\\bigl [}\\Pr(i>j){\\bigr ]}}^{w_{ij}}=\\sum _{i=1}^{n}\\sum _{j=1}^{n}\\ln {\\biggl [}\\left({\\frac {p_{i}}{p_{i}+p_{j}}}\\right)^{w_{ij}}{\\biggr ]}\\\\[6pt]&=\\sum _{ij}w_{ij}\\ln {\\biggl (}{\\frac {p_{i}}{p_{i}+p_{j}}}{\\biggr )}=\\sum _{ij}{\\bigl [}w_{ij}\\ln(p_{i})-w_{ij}\\ln(p_{i}+p_{j}){\\bigr ]}.\\end{aligned}}$\n",
        "\n",
        "Zermelo[5] showed that this expression has only a single maximum, which can be found by differentiating with respect to\n",
        "$p_{i}$ and setting the result to zero, which leads to\n",
        "\n",
        "$p_{i}={\\frac {\\sum _{j}w_{ij}}{\\sum _{j}(w_{ij}+w_{ji})/(p_{i}+p_{j})}}.$\t\t(2)\n",
        "\n",
        "This equation has no known closed-form solution, but Zermelo suggested solving it by simple iteration. Starting from any convenient set of (positive) initial values for the\n",
        "$p_{i}$, one iteratively performs the update\n",
        "\n",
        "$p_{i}'={\\frac {\\sum _{j}w_{ij}}{\\sum _{j}(w_{ij}+w_{ji})/(p_{i}+p_{j})}}$\t\t(3)\n",
        "\n",
        "for all i in turn. The resulting parameters are arbitrary up to an overall multiplicative constant, so after computing all of the new values they should be normalized by dividing by their geometric mean thus:\n"
      ],
      "metadata": {
        "id": "zaG8EcAwPRVi"
      }
    },
    {
      "cell_type": "code",
      "source": [
        "#@markdown $p_{i}\\leftarrow {\\frac {p'_{i}}{\\left(\\prod _{j=1}^{n}p'_{j}\\right)^{1/n}}}$\t\t(4)\n",
        "def geometric_mean(p):\n",
        "    gm = 1.0\n",
        "    for i in range(len(p)):\n",
        "        gm *= p[i]\n",
        "    gm = gm ** (1.0/len(p))\n",
        "    return gm\n"
      ],
      "metadata": {
        "cellView": "form",
        "id": "mu4nX87hNpK2"
      },
      "execution_count": null,
      "outputs": []
    },
    {
      "cell_type": "markdown",
      "source": [
        "This estimation procedure improves the log-likelihood on every iteration, and is guaranteed to eventually reach the unique maximum.[5][11] It is, however, slow to converge.[1][12] More recently it has been pointed out[13] that equation (2) can also be rearranged as\n",
        "\n",
        "$p_{i}={\\frac {\\sum _{j}w_{ij}p_{j}/(p_{i}+p_{j})}{\\sum _{j}w_{ji}/(p_{i}+p_{j})}},$\n",
        "\n",
        "which can be solved by iterating\n",
        "\n",
        "$p_{i}'={\\frac {\\sum _{j}w_{ij}p_{j}/(p_{i}+p_{j})}{\\sum _{j}w_{ji}/(p_{i}+p_{j})}},$\t\t(5)\n",
        "\n",
        "again normalizing after every round of updates using equation (4). This iteration gives identical results to the one in (3) but converges much faster and hence is normally preferred over (3).[13]\n",
        "\n",
        "Newman, M. E. J. (2023). \"Efficient computation of rankings from pairwise comparisons\". Journal of Machine Learning Research. 24 (238): 1–25. https://arxiv.org/pdf/2207.00076"
      ],
      "metadata": {
        "id": "X_9-xFBENqo-"
      }
    },
    {
      "cell_type": "markdown",
      "source": [
        "##Worked example of solution procedure"
      ],
      "metadata": {
        "id": "QywaZGcuJstf"
      }
    },
    {
      "cell_type": "code",
      "execution_count": null,
      "metadata": {
        "cellView": "form",
        "id": "_CKlJyYefKTC"
      },
      "outputs": [],
      "source": [
        "\n",
        "\n",
        "#@markdown Consider a sporting competition between four teams, who play a total of 22 games among themselves.\n",
        "\n",
        "#@markdown ```\n",
        "#@markdown A wins B 2 time(s)\n",
        "#@markdown A wins C 0 time(s)\n",
        "#@markdown A wins D 1 time(s)\n",
        "#@markdown B wins A 3 time(s)\n",
        "#@markdown B wins C 5 time(s)\n",
        "#@markdown B wins D 0 time(s)\n",
        "#@markdown C wins A 0 time(s)\n",
        "#@markdown C wins B 3 time(s)\n",
        "#@markdown C wins D 1 time(s)\n",
        "#@markdown D wins A 4 time(s)\n",
        "#@markdown D wins B 0 time(s)\n",
        "#@markdown D wins C 3 time(s)\n",
        "#@markdown ```\n",
        "\n",
        "#@markdown Each team's wins are given in the rows of the table below and the opponents are given as the columns:\n",
        "\n",
        "#@markdown Results\n",
        "\n",
        "#@markdown | |A|B|C|D|\n",
        "#@markdown |-|-|-|-|-|\n",
        "#@markdown |A|–|2|0|1|\n",
        "#@markdown |B|3|–|5|0|\n",
        "#@markdown |C|0|3|–|1|\n",
        "#@markdown |D|4|0|3|–|\n",
        "\n",
        "\n",
        "raw_data = '''\n",
        "\tA\tB\tC\tD\n",
        "A\t–\t2\t0\t1\n",
        "B\t3\t–\t5\t0\n",
        "C\t0\t3\t–\t1\n",
        "D\t4\t0\t3\t–\n",
        "'''\n",
        "\n",
        "def load_score_matrix(score_matrix):\n",
        "    data = score_matrix.split(\"\\n\")[2:-1]\n",
        "    teams = score_matrix.split(\"\\n\")[1].split('\\t')[1:]\n",
        "    for i in range(len(data)):\n",
        "        data[i] = data[i].split(\"\\t\")[1:]\n",
        "        for j in range(len(data[i])):\n",
        "            if data[i][j] == '–':\n",
        "                data[i][j] = 1.0\n",
        "            data[i][j] = float(data[i][j])\n",
        "    return teams, data\n",
        "teams, scores = load_score_matrix(raw_data)"
      ]
    },
    {
      "cell_type": "code",
      "source": [
        "#@markdown Estimating the parameters using Newman's approach\n",
        "\n",
        "\n",
        "#@markdown We would like to estimate the relative strengths of the teams,\n",
        "#@markdown which we do by calculating the parameters $p_i$, with higher parameters\n",
        "#@markdown indicating greater prowess. To do this, we initialize the four entries\n",
        "#@markdown in the parameter vector p arbitrarily, for example assigning the value\n",
        "#@markdown 1 to each team: [1, 1, 1, 1]\n",
        "p = [1.0 for _ in range(len(teams))]\n",
        "\n",
        "\n",
        "\n",
        "def estimate_p(teams, scores, p):\n",
        "    for i in range(len(p)):\n",
        "        numerator, denominator = 0.0, 0.0\n",
        "        for j in range(len(p)):\n",
        "            if i == j:\n",
        "                continue\n",
        "            w_i = scores[i][j]\n",
        "            numerator += w_i * p[j] / (p[i]+p[j])\n",
        "            w_j = scores[j][i]\n",
        "            denominator += w_j / (p[i]+p[j])\n",
        "        p[i] = numerator / denominator\n",
        "        #@markdown Then we apply equation (5) to update $p_i$, which gives\n",
        "        #@markdown\n",
        "        #@markdown $p_i = \\frac{\\sum_{j(\\neq i)}w_{ij}p_i/(p_i+p_j)}{\\sum_{j(\\neq i)}w_{ji}/(p_i+p_j)}$\n",
        "\n",
        "    # normalizing\n",
        "    #@markdown Then we normalize all the parameters by dividing by their geometric mean\n",
        "    #@markdown ( 0.429 × 1.172 × 0.557 × 1.694 )^1/4 = 0.830 to get\n",
        "    #@markdown the estimated parameters p = [0.516, 1.413, 0.672, 2.041].\n",
        "    gm = geometric_mean(p)\n",
        "    for i in range(len(p)):\n",
        "        p[i] = p[i] / gm\n",
        "\n",
        "    return p\n",
        "\n",
        "\n",
        "def bradley_terry_esitimation(teams, scores, p):\n",
        "    #@markdown Repeating this process for the remaining parameters\n",
        "    #@markdown and normalizing, we get p = [0.677, 1.034, 0.624, 2.287].\n",
        "    #@markdown Repeating a further 10 times gives rapid convergence\n",
        "    #@markdown toward a final solution of p = [0.640, 1.043, 0.660, 2.270]\n",
        "    iteration = 10\n",
        "    for i in range(iteration):\n",
        "        p = estimate_p(teams, scores, p)\n",
        "    return p\n",
        "\n",
        "p = bradley_terry_esitimation(teams, scores, p)\n",
        "\n",
        "print(\"[\"+\", \".join([ \"%.3f\" % round(p_i, 3) for p_i in p])+\"]\")"
      ],
      "metadata": {
        "colab": {
          "base_uri": "https://localhost:8080/"
        },
        "cellView": "form",
        "id": "eS1KaiAfkXud",
        "outputId": "90b512cc-ab50-49ca-ab06-dad52dd7e8bf"
      },
      "execution_count": null,
      "outputs": [
        {
          "output_type": "stream",
          "name": "stdout",
          "text": [
            "[0.640, 1.043, 0.660, 2.270]\n"
          ]
        }
      ]
    },
    {
      "cell_type": "code",
      "source": [
        "#@title Check who is stronger\n",
        "p_sorted = list(reversed(sorted(p)))\n",
        "\n",
        "for i in range(len(p_sorted)):\n",
        "    print(teams[p.index(p_sorted[i])], \"%0.3f\" % p_sorted[i])\n",
        "\n",
        "#@markdown This indicates that Team D is the strongest and Team B the second strongest, while Teams A and C are nearly equal in strength but below Teams B and D. In this way the Bradley–Terry model lets us infer the relationship between all four teams, even though not all teams have played each other."
      ],
      "metadata": {
        "colab": {
          "base_uri": "https://localhost:8080/"
        },
        "cellView": "form",
        "id": "9zBvQVtgtqa5",
        "outputId": "5a8611c8-ecdb-42f9-c08b-31d236b948a9"
      },
      "execution_count": null,
      "outputs": [
        {
          "output_type": "stream",
          "name": "stdout",
          "text": [
            "D 2.270\n",
            "B 1.043\n",
            "C 0.660\n",
            "A 0.640\n"
          ]
        }
      ]
    },
    {
      "cell_type": "markdown",
      "source": [
        "##References"
      ],
      "metadata": {
        "id": "KJOLB9aAS--J"
      }
    },
    {
      "cell_type": "markdown",
      "source": [
        " [1] Hunter, David R. (2004). \"MM algorithms for generalized Bradley–Terry models\". The Annals of Statistics. 32 (1): 384–406. CiteSeerX 10.1.1.110.7878. doi:10.1214/aos/1079120141. JSTOR 3448514.\n",
        "\n",
        " [2] Agresti, Alan (2014). Categorical Data Analysis. John Wiley & Sons. pp. 436–439.\n",
        "\n",
        " [3] E.E.M. van Berkum. \"Bradley-Terry model\". Encyclopedia of Mathematics. Retrieved 18 November 2014.\n",
        "\n",
        " [4] Bradley, Ralph Allan; Terry, Milton E. (1952). \"Rank Analysis of Incomplete Block Designs: I. The Method of Paired Comparisons\". Biometrika. 39 (3/4): 324–345. doi:10.2307/2334029. JSTOR 2334029.\n",
        "\n",
        " [5] Zermelo, Ernst (1929). \"Die Berechnung der Turnier-Ergebnisse als ein Maximumproblem der Wahrscheinlichkeitsrechnung\". Mathematische Zeitschrift. 29 (1): 436–460. doi:10.1007/BF01180541. S2CID 122877703.\n",
        "\n",
        " [6] Heinz-Dieter Ebbinghaus (2007), Ernst Zermelo: An Approach to His Life and Work, Springer, pp. 268–269, ISBN 9783540495536\n",
        "\n",
        " [7] Shev, A.; Fujii, K.; Hsieh, F.; McCowan, B. (2014). \"Systemic testing on Bradley-Terry model against nonlinear ranking hierarchy\". PLOS One. 9 (12): e115367. doi:10.1371/journal.pone.0115367. PMC 4274013. PMID 25531899.\n",
        "\n",
        " [8] Boyd, Robert; Silk, Joan B. (1983). \"A method for assigning cardinal dominance ranks\". Animal Behaviour. 31 (1): 45–58. doi:10.1016/S0003-3472(83)80172-9. S2CID 53178779.\n",
        "\n",
        " [9] \"Chatbot Arena: New models & Elo system update | LMSYS Org\". lmsys.org. Retrieved 2024-01-30. https://en.wikipedia.org/wiki/Elo_rating_system\n",
        "\n",
        " [10] Szummer, Martin; Yilmaz, Emine (2011). Semi-supervised learning to rank with preference regularization (PDF). CIKM.\n",
        "\n",
        " [11] Ford, Jr., L. R. (1957). \"Solution of a ranking problem from binary comparisons\". American Mathematical Monthly. 64 (8): 28–33. doi:10.1080/00029890.1957.11989117.\n",
        "\n",
        " [12] Dykstra, Jr., Otto (1956). \"A note on the rank analysis of incomplete block designs\". Biometrics. 12: 301–306. doi:10.2307/2334029. JSTOR 2334029.\n",
        "\n",
        " [13] Newman, M. E. J. (2023). \"Efficient computation of rankings from pairwise comparisons\". Journal of Machine Learning Research. 24 (238): 1–25. https://arxiv.org/pdf/2207.00076"
      ],
      "metadata": {
        "id": "TAlIdPGlS0ul"
      }
    }
  ]
}
