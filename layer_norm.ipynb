{
  "nbformat": 4,
  "nbformat_minor": 0,
  "metadata": {
    "colab": {
      "provenance": [],
      "authorship_tag": "ABX9TyOpMApL4iWo0FhMfXNNx+My",
      "include_colab_link": true
    },
    "kernelspec": {
      "name": "python3",
      "display_name": "Python 3"
    },
    "language_info": {
      "name": "python"
    }
  },
  "cells": [
    {
      "cell_type": "markdown",
      "metadata": {
        "id": "view-in-github",
        "colab_type": "text"
      },
      "source": [
        "<a href=\"https://colab.research.google.com/github/Erickrus/llm/blob/main/layer_norm.ipynb\" target=\"_parent\"><img src=\"https://colab.research.google.com/assets/colab-badge.svg\" alt=\"Open In Colab\"/></a>"
      ]
    },
    {
      "cell_type": "code",
      "execution_count": null,
      "metadata": {
        "id": "BpED8xdeRFFf"
      },
      "outputs": [],
      "source": [
        "import torch\n",
        "import torch.nn as nn\n",
        "\n",
        "\n",
        "\n",
        "class LayerNormalization(nn.Module):\n",
        "\n",
        "    def __init__(self,\n",
        "                 normal_shape,\n",
        "                 gamma=True,\n",
        "                 beta=True,\n",
        "                 epsilon=1e-10):\n",
        "        \"\"\"Layer normalization layer\n",
        "\n",
        "        See: [Layer Normalization](https://arxiv.org/pdf/1607.06450.pdf)\n",
        "\n",
        "        :param normal_shape: The shape of the input tensor or the last dimension of the input tensor.\n",
        "        :param gamma: Add a scale parameter if it is True.\n",
        "        :param beta: Add an offset parameter if it is True.\n",
        "        :param epsilon: Epsilon for calculating variance.\n",
        "        \"\"\"\n",
        "        super(LayerNormalization, self).__init__()\n",
        "        if isinstance(normal_shape, int):\n",
        "            normal_shape = (normal_shape,)\n",
        "        else:\n",
        "            normal_shape = (normal_shape[-1],)\n",
        "        self.normal_shape = torch.Size(normal_shape)\n",
        "        self.epsilon = epsilon\n",
        "        if gamma:\n",
        "            self.gamma = nn.Parameter(torch.Tensor(*normal_shape))\n",
        "        else:\n",
        "            self.register_parameter('gamma', None)\n",
        "        if beta:\n",
        "            self.beta = nn.Parameter(torch.Tensor(*normal_shape))\n",
        "        else:\n",
        "            self.register_parameter('beta', None)\n",
        "        self.reset_parameters()\n",
        "\n",
        "    def reset_parameters(self):\n",
        "        if self.gamma is not None:\n",
        "            self.gamma.data.fill_(1)\n",
        "        if self.beta is not None:\n",
        "            self.beta.data.zero_()\n",
        "\n",
        "    def forward(self, x):\n",
        "        mean = x.mean(dim=-1, keepdim=True)\n",
        "        var = ((x - mean) ** 2).mean(dim=-1, keepdim=True)\n",
        "        std = (var + self.epsilon).sqrt()\n",
        "        y = (x - mean) / std\n",
        "        if self.gamma is not None:\n",
        "            y *= self.gamma\n",
        "        if self.beta is not None:\n",
        "            y += self.beta\n",
        "        return y\n",
        "\n",
        "    def extra_repr(self):\n",
        "        return 'normal_shape={}, gamma={}, beta={}, epsilon={}'.format(\n",
        "            self.normal_shape, self.gamma is not None, self.beta is not None, self.epsilon,\n",
        "        )"
      ]
    }
  ]
}