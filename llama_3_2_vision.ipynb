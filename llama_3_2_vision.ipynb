{
  "nbformat": 4,
  "nbformat_minor": 0,
  "metadata": {
    "colab": {
      "provenance": [],
      "machine_shape": "hm",
      "gpuType": "L4",
      "authorship_tag": "ABX9TyNBbSgY6C7SDZ7voJPc/Ny4",
      "include_colab_link": true
    },
    "kernelspec": {
      "name": "python3",
      "display_name": "Python 3"
    },
    "language_info": {
      "name": "python"
    },
    "accelerator": "GPU"
  },
  "cells": [
    {
      "cell_type": "markdown",
      "metadata": {
        "id": "view-in-github",
        "colab_type": "text"
      },
      "source": [
        "<a href=\"https://colab.research.google.com/github/Erickrus/llm/blob/main/llama_3_2_vision.ipynb\" target=\"_parent\"><img src=\"https://colab.research.google.com/assets/colab-badge.svg\" alt=\"Open In Colab\"/></a>"
      ]
    },
    {
      "cell_type": "code",
      "source": [
        "!nvidia-smi"
      ],
      "metadata": {
        "colab": {
          "base_uri": "https://localhost:8080/"
        },
        "id": "bvl_gdVsXp0J",
        "outputId": "064ea750-be8b-4201-82f8-c7869874f774"
      },
      "execution_count": 1,
      "outputs": [
        {
          "output_type": "stream",
          "name": "stdout",
          "text": [
            "Sat Nov  9 14:40:54 2024       \n",
            "+---------------------------------------------------------------------------------------+\n",
            "| NVIDIA-SMI 535.104.05             Driver Version: 535.104.05   CUDA Version: 12.2     |\n",
            "|-----------------------------------------+----------------------+----------------------+\n",
            "| GPU  Name                 Persistence-M | Bus-Id        Disp.A | Volatile Uncorr. ECC |\n",
            "| Fan  Temp   Perf          Pwr:Usage/Cap |         Memory-Usage | GPU-Util  Compute M. |\n",
            "|                                         |                      |               MIG M. |\n",
            "|=========================================+======================+======================|\n",
            "|   0  NVIDIA L4                      Off | 00000000:00:03.0 Off |                    0 |\n",
            "| N/A   43C    P8              12W /  72W |      1MiB / 23034MiB |      0%      Default |\n",
            "|                                         |                      |                  N/A |\n",
            "+-----------------------------------------+----------------------+----------------------+\n",
            "                                                                                         \n",
            "+---------------------------------------------------------------------------------------+\n",
            "| Processes:                                                                            |\n",
            "|  GPU   GI   CI        PID   Type   Process name                            GPU Memory |\n",
            "|        ID   ID                                                             Usage      |\n",
            "|=======================================================================================|\n",
            "|  No running processes found                                                           |\n",
            "+---------------------------------------------------------------------------------------+\n"
          ]
        }
      ]
    },
    {
      "cell_type": "code",
      "execution_count": 2,
      "metadata": {
        "colab": {
          "base_uri": "https://localhost:8080/"
        },
        "id": "vXHMD_V2XefD",
        "outputId": "5057c7b0-3d9d-41e8-b75a-d78af98e15de"
      },
      "outputs": [
        {
          "output_type": "stream",
          "name": "stdout",
          "text": [
            ">>> Installing ollama to /usr/local\n",
            ">>> Downloading Linux amd64 bundle\n",
            "############################################################################################# 100.0%\n",
            ">>> Creating ollama user...\n",
            ">>> Adding ollama user to video group...\n",
            ">>> Adding current user to ollama group...\n",
            ">>> Creating ollama systemd service...\n",
            "WARNING: Unable to detect NVIDIA/AMD GPU. Install lspci or lshw to automatically detect and install GPU dependencies.\n",
            ">>> The Ollama API is now available at 127.0.0.1:11434.\n",
            ">>> Install complete. Run \"ollama\" from the command line.\n"
          ]
        }
      ],
      "source": [
        "!curl -fsSL https://ollama.com/install.sh | sh"
      ]
    },
    {
      "cell_type": "code",
      "source": [
        "!nohup ollama serve &"
      ],
      "metadata": {
        "colab": {
          "base_uri": "https://localhost:8080/"
        },
        "id": "Gnxn_ROeYTER",
        "outputId": "f129d7e9-5951-46db-f45e-54d8b94078c2"
      },
      "execution_count": 33,
      "outputs": [
        {
          "output_type": "stream",
          "name": "stdout",
          "text": [
            "nohup: appending output to 'nohup.out'\n"
          ]
        }
      ]
    },
    {
      "cell_type": "code",
      "source": [
        "!ollama pull llama3.2-vision:11b"
      ],
      "metadata": {
        "id": "bLm7OEb1YGgt"
      },
      "execution_count": null,
      "outputs": []
    },
    {
      "cell_type": "code",
      "source": [
        "!ollama list"
      ],
      "metadata": {
        "colab": {
          "base_uri": "https://localhost:8080/"
        },
        "id": "ICOvWdXZYfwQ",
        "outputId": "93cc21a4-b75a-4212-cb45-9b4ed5892b7a"
      },
      "execution_count": 26,
      "outputs": [
        {
          "output_type": "stream",
          "name": "stdout",
          "text": [
            "NAME                   ID              SIZE      MODIFIED       \n",
            "llama3.2-vision:11b    38107a0cd119    7.9 GB    18 minutes ago    \n"
          ]
        }
      ]
    },
    {
      "cell_type": "code",
      "source": [
        "!curl -o \"image.webp\" \"https://img-cdn.pixlr.com/image-generator/history/65bb506dcb310754719cf81f/ede935de-1138-4f66-8ed7-44bd16efc709/medium.webp\""
      ],
      "metadata": {
        "colab": {
          "base_uri": "https://localhost:8080/"
        },
        "id": "9Y2hj8qtfAYf",
        "outputId": "1f2c9e21-1339-4ff5-f79f-13cf3b7bd70e"
      },
      "execution_count": 36,
      "outputs": [
        {
          "output_type": "stream",
          "name": "stdout",
          "text": [
            "  % Total    % Received % Xferd  Average Speed   Time    Time     Time  Current\n",
            "                                 Dload  Upload   Total   Spent    Left  Speed\n",
            "\r  0     0    0     0    0     0      0      0 --:--:-- --:--:-- --:--:--     0\r100 49764  100 49764    0     0   620k      0 --:--:-- --:--:-- --:--:--  623k\n"
          ]
        }
      ]
    },
    {
      "cell_type": "code",
      "source": [
        "from PIL import Image # Open a WebP image\n",
        "webp_image = Image.open(\"image.webp\")\n",
        "webp_image.save(\"image.png\")"
      ],
      "metadata": {
        "id": "ODWisaJAf5XJ"
      },
      "execution_count": 37,
      "outputs": []
    },
    {
      "cell_type": "code",
      "source": [
        "import base64\n",
        "import json\n",
        "import requests\n",
        "\n",
        "def query_image(\n",
        "    prompt,\n",
        "    image_filename,\n",
        "    url='localhost:11434',\n",
        "    model_name= \"llama3.2-vision:11b\",\n",
        "):\n",
        "    api_url = f\"http://{url}/api/generate\"\n",
        "    image_base64 = base64.b64encode(open(image_filename, \"rb\").read()).decode('utf-8')\n",
        "\n",
        "    data = {\n",
        "      \"model\": model_name,\n",
        "      \"prompt\": prompt,\n",
        "      \"stream\": False,\n",
        "      \"images\": [image_base64]\n",
        "    }\n",
        "\n",
        "    data_json = json.dumps(data)\n",
        "    try:\n",
        "        response = requests.post(api_url, json=data)\n",
        "        response.raise_for_status()\n",
        "        print(response.json()['response'])\n",
        "    except requests.exceptions.RequestException as e:\n",
        "        print(\"Request failed:\", e)\n",
        "\n",
        "query_image(\"What is in this picture?\", \"/content/image.png\")\n"
      ],
      "metadata": {
        "colab": {
          "base_uri": "https://localhost:8080/"
        },
        "id": "X4KoruFlYmsF",
        "outputId": "2dd575a2-e3e9-4017-ab63-c3d89db0740c"
      },
      "execution_count": 38,
      "outputs": [
        {
          "output_type": "stream",
          "name": "stdout",
          "text": [
            "The image depicts a cat dressed as if it were a person. The cat appears to be wearing a red Chinese robe and matching head covering, which includes an elaborate bow at the front. It has a serious expression on its face. The image seems to be a digitally created artwork intended to showcase this imaginative scene.\n"
          ]
        }
      ]
    }
  ]
}