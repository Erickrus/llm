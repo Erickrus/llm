{
  "nbformat": 4,
  "nbformat_minor": 0,
  "metadata": {
    "colab": {
      "provenance": [],
      "authorship_tag": "ABX9TyPXUaYnoHW2hO1As5w1WCHd",
      "include_colab_link": true
    },
    "kernelspec": {
      "name": "python3",
      "display_name": "Python 3"
    },
    "language_info": {
      "name": "python"
    }
  },
  "cells": [
    {
      "cell_type": "markdown",
      "metadata": {
        "id": "view-in-github",
        "colab_type": "text"
      },
      "source": [
        "<a href=\"https://colab.research.google.com/github/Erickrus/llm/blob/main/google_adk.ipynb\" target=\"_parent\"><img src=\"https://colab.research.google.com/assets/colab-badge.svg\" alt=\"Open In Colab\"/></a>"
      ]
    },
    {
      "cell_type": "markdown",
      "source": [
        "# Quickstart\n",
        "This quickstart guides you through installing the Agent Development Kit (ADK), setting up a basic agent with multiple tools, and running it locally either in the terminal or in the interactive, browser-based dev UI.\n",
        "\n",
        "This quickstart assumes a local IDE (VS Code, PyCharm, IntelliJ IDEA, etc.) with Python 3.9+ or Java 17+ and terminal access. This method runs the application entirely on your machine and is recommended for internal development.\n",
        "\n",
        "https://google.github.io/adk-docs/get-started/quickstart/"
      ],
      "metadata": {
        "id": "mG6tZiyUg1NU"
      }
    },
    {
      "cell_type": "markdown",
      "source": [
        "## 1. Set up Environment & Install ADK\n",
        "\n",
        "### Create & Activate Virtual Environment (Recommended):\n",
        "\n",
        "```shell\n",
        "# Create\n",
        "python -m venv .venv\n",
        "# Activate (each new terminal)\n",
        "# macOS/Linux: source .venv/bin/activate\n",
        "# Windows CMD: .venv\\Scripts\\activate.bat\n",
        "# Windows PowerShell: .venv\\Scripts\\Activate.ps1\n",
        "```"
      ],
      "metadata": {
        "id": "2Rqp1Tyag_wl"
      }
    },
    {
      "cell_type": "markdown",
      "source": [
        "Install ADK:"
      ],
      "metadata": {
        "id": "T_NNXbMkhQYV"
      }
    },
    {
      "cell_type": "code",
      "execution_count": null,
      "metadata": {
        "id": "RqOjJPvjedtf"
      },
      "outputs": [],
      "source": [
        "!pip3 install -q google-adk"
      ]
    },
    {
      "cell_type": "markdown",
      "source": [
        "## 2. Create Agent Project\n",
        "\n",
        "### Project structure\n",
        "\n",
        "You will need to create the following project structure:\n",
        "\n",
        "```shell\n",
        "parent_folder/\n",
        "    multi_tool_agent/\n",
        "        __init__.py\n",
        "        agent.py\n",
        "        .env\n",
        "```\n",
        "Create the folder multi_tool_agent:\n",
        "\n"
      ],
      "metadata": {
        "id": "mLl6XycWhXPT"
      }
    },
    {
      "cell_type": "code",
      "source": [
        "!mkdir multi_tool_agent"
      ],
      "metadata": {
        "id": "7FsurrTMgHG0"
      },
      "execution_count": null,
      "outputs": []
    },
    {
      "cell_type": "markdown",
      "source": [
        "**Note for Windows users**\n",
        "\n",
        "When using ADK on Windows for the next few steps, we recommend creating Python files using File Explorer or an IDE because the following commands (mkdir, echo) typically generate files with null bytes and/or incorrect encoding."
      ],
      "metadata": {
        "id": "jmVSqAX3h26o"
      }
    },
    {
      "cell_type": "markdown",
      "source": [
        "`__init__.py`\n",
        "Now create an `__init__.py` file in the folder:\n"
      ],
      "metadata": {
        "id": "LuX3Wsa9iDgd"
      }
    },
    {
      "cell_type": "code",
      "source": [
        "!echo \"from . import agent\" > multi_tool_agent/__init__.py"
      ],
      "metadata": {
        "id": "TK5yElZ6iIMu"
      },
      "execution_count": null,
      "outputs": []
    },
    {
      "cell_type": "markdown",
      "source": [
        "Your `__init__.py` should now look like this:\n",
        "\n",
        "```shell\n",
        "multi_tool_agent/__init__.py\n",
        "```\n",
        "```python\n",
        "from . import agent\n",
        "```"
      ],
      "metadata": {
        "id": "HmxaCx7uiMo_"
      }
    },
    {
      "cell_type": "markdown",
      "source": [
        "agent.py\n",
        "Create an agent.py file in the same folder:\n",
        "\n",
        "```shell\n",
        "touch multi_tool_agent/agent.py\n",
        "```\n",
        "\n",
        "Copy and paste the following code into agent.py:\n",
        "\n",
        "`multi_tool_agent/agent.py`\n"
      ],
      "metadata": {
        "id": "76KOte3UicKY"
      }
    },
    {
      "cell_type": "code",
      "source": [
        "#@title multi_tool_agent/agent.py\n",
        "%%writefile multi_tool_agent/agent.py\n",
        "\n",
        "import datetime\n",
        "from zoneinfo import ZoneInfo\n",
        "from google.adk.agents import Agent\n",
        "\n",
        "def get_weather(city: str) -> dict:\n",
        "    \"\"\"Retrieves the current weather report for a specified city.\n",
        "\n",
        "    Args:\n",
        "        city (str): The name of the city for which to retrieve the weather report.\n",
        "\n",
        "    Returns:\n",
        "        dict: status and result or error msg.\n",
        "    \"\"\"\n",
        "    if city.lower() == \"new york\":\n",
        "        return {\n",
        "            \"status\": \"success\",\n",
        "            \"report\": (\n",
        "                \"The weather in New York is sunny with a temperature of 25 degrees\"\n",
        "                \" Celsius (77 degrees Fahrenheit).\"\n",
        "            ),\n",
        "        }\n",
        "    else:\n",
        "        return {\n",
        "            \"status\": \"error\",\n",
        "            \"error_message\": f\"Weather information for '{city}' is not available.\",\n",
        "        }\n",
        "\n",
        "\n",
        "def get_current_time(city: str) -> dict:\n",
        "    \"\"\"Returns the current time in a specified city.\n",
        "\n",
        "    Args:\n",
        "        city (str): The name of the city for which to retrieve the current time.\n",
        "\n",
        "    Returns:\n",
        "        dict: status and result or error msg.\n",
        "    \"\"\"\n",
        "\n",
        "    if city.lower() == \"new york\":\n",
        "        tz_identifier = \"America/New_York\"\n",
        "    else:\n",
        "        return {\n",
        "            \"status\": \"error\",\n",
        "            \"error_message\": (\n",
        "                f\"Sorry, I don't have timezone information for {city}.\"\n",
        "            ),\n",
        "        }\n",
        "\n",
        "    tz = ZoneInfo(tz_identifier)\n",
        "    now = datetime.datetime.now(tz)\n",
        "    report = (\n",
        "        f'The current time in {city} is {now.strftime(\"%Y-%m-%d %H:%M:%S %Z%z\")}'\n",
        "    )\n",
        "    return {\"status\": \"success\", \"report\": report}\n",
        "\n",
        "\n",
        "root_agent = Agent(\n",
        "    name=\"weather_time_agent\",\n",
        "    model=\"gemini-2.0-flash\",\n",
        "    description=(\n",
        "        \"Agent to answer questions about the time and weather in a city.\"\n",
        "    ),\n",
        "    instruction=(\n",
        "        \"You are a helpful agent who can answer user questions about the time and weather in a city.\"\n",
        "    ),\n",
        "    tools=[get_weather, get_current_time],\n",
        ")"
      ],
      "metadata": {
        "colab": {
          "base_uri": "https://localhost:8080/"
        },
        "cellView": "form",
        "id": "Zcnh9fUNinre",
        "outputId": "49091cf7-79a9-4706-daff-08f4c3f7b6b5"
      },
      "execution_count": null,
      "outputs": [
        {
          "output_type": "stream",
          "name": "stdout",
          "text": [
            "Writing multi_tool_agent/agent.py\n"
          ]
        }
      ]
    },
    {
      "cell_type": "markdown",
      "source": [
        ".env\n",
        "\n",
        "Create a .env file in the same folder:\n"
      ],
      "metadata": {
        "id": "LYVUj0oxi0SZ"
      }
    },
    {
      "cell_type": "code",
      "source": [
        "!touch multi_tool_agent/.env"
      ],
      "metadata": {
        "id": "n0WCr1KWi7GC"
      },
      "execution_count": null,
      "outputs": []
    },
    {
      "cell_type": "markdown",
      "source": [
        "More instructions about this file are described in the next section on Set up the model."
      ],
      "metadata": {
        "id": "YpAD_cr2i-ba"
      }
    },
    {
      "cell_type": "markdown",
      "source": [
        "<img width=800px src=\"https://google.github.io/adk-docs/assets/quickstart-flow-tool.png\" />"
      ],
      "metadata": {
        "id": "1aRucb_4jCNS"
      }
    },
    {
      "cell_type": "markdown",
      "source": [
        "## 3. Set up the model\n",
        "\n",
        "Your agent's ability to understand user requests and generate responses is powered by a Large Language Model (LLM). Your agent needs to make secure calls to this external LLM service, which requires authentication credentials. Without valid authentication, the LLM service will deny the agent's requests, and the agent will be unable to function.\n",
        "\n",
        "**Gemini - Google Cloud Vertex AI**\n",
        "\n",
        "1. Get an API key from [Google AI Studio](https://aistudio.google.com/apikey).\n",
        "\n",
        "2. When using Python, open the `.env` file located inside (multi_tool_agent/) and copy-paste the following code.\n",
        "\n",
        "`multi_tool_agent/.env`"
      ],
      "metadata": {
        "id": "WHRfidXhjNlC"
      }
    },
    {
      "cell_type": "code",
      "source": [
        "#@title multi_tool_agent/.env\n",
        "%%writefile multi_tool_agent/.env\n",
        "GOOGLE_GENAI_USE_VERTEXAI=FALSE\n",
        "GOOGLE_API_KEY=PASTE_YOUR_ACTUAL_API_KEY_HERE"
      ],
      "metadata": {
        "colab": {
          "base_uri": "https://localhost:8080/"
        },
        "id": "Cbe0a_bti8zC",
        "outputId": "4f6e763a-cdc5-4c76-a183-a96f21236201"
      },
      "execution_count": null,
      "outputs": [
        {
          "output_type": "stream",
          "name": "stdout",
          "text": [
            "Overwriting multi_tool_agent/.env\n"
          ]
        }
      ]
    },
    {
      "cell_type": "markdown",
      "source": [
        "When using Java, define environment variables:\n",
        "\n",
        "```shell\n",
        "export GOOGLE_GENAI_USE_VERTEXAI=FALSE\n",
        "export GOOGLE_API_KEY=PASTE_YOUR_ACTUAL_API_KEY_HERE\n",
        "```\n",
        "\n",
        "3. Replace PASTE_YOUR_ACTUAL_API_KEY_HERE with your actual API KEY."
      ],
      "metadata": {
        "id": "MDbil18ijywp"
      }
    },
    {
      "cell_type": "markdown",
      "source": [
        "## 4. Run Your Agent\n",
        "\n",
        "Using the terminal, navigate to the parent directory of your agent project (e.g. using cd ..):\n",
        "\n",
        "```shell\n",
        "parent_folder/      <-- navigate to this directory\n",
        "    multi_tool_agent/\n",
        "        __init__.py\n",
        "        agent.py\n",
        "        .env\n",
        "```\n",
        "\n",
        "There are multiple ways to interact with your agent:"
      ],
      "metadata": {
        "id": "gqaqor--kPTK"
      }
    },
    {
      "cell_type": "markdown",
      "source": [
        "### Dev UI (adk web)"
      ],
      "metadata": {
        "id": "2fv7dorAlfcl"
      }
    },
    {
      "cell_type": "markdown",
      "source": [
        "\n",
        "\n",
        "Run the following command to launch the **dev UI**.\n",
        "```shell\n",
        "adk web\n",
        "```\n",
        "\n",
        "Step 1: Open the URL provided (usually http://localhost:8000 or http://127.0.0.1:8000) directly in your browser.\n",
        "\n",
        "Step 2. In the top-left corner of the UI, you can select your agent in the dropdown. Select \"multi_tool_agent\".\n",
        "\n",
        "Troubleshooting\n",
        "\n",
        "If you do not see \"multi_tool_agent\" in the dropdown menu, make sure you are running adk web in the parent folder of your agent folder (i.e. the parent folder of multi_tool_agent).\n",
        "\n",
        "Step 3. Now you can chat with your agent using the textbox:\n",
        "\n",
        "<img width=800px src=\"https://google.github.io/adk-docs/assets/adk-web-dev-ui-chat.png\" />\n",
        "\n",
        "Step 4. By using the Events tab at the left, you can inspect individual function calls, responses and model responses by clicking on the actions:\n",
        "\n",
        "<img width=800px src=\"https://google.github.io/adk-docs/assets/adk-web-dev-ui-function-call.png\" />\n",
        "\n",
        "On the Events tab, you can also click the Trace button to see the trace logs for each event that shows the latency of each function calls:\n",
        "\n",
        "<img width=800px src=\"https://google.github.io/adk-docs/assets/adk-web-dev-ui-trace.png\" />\n",
        "\n",
        "Step 5. You can also enable your microphone and talk to your agent:\n",
        "\n",
        "Model support for voice/video streaming\n",
        "\n",
        "In order to use voice/video streaming in ADK, you will need to use Gemini models that support the Live API. You can find the model ID(s) that supports the Gemini Live API in the documentation:\n",
        "\n",
        " - [Google AI Studio: Gemini Live API](https://ai.google.dev/gemini-api/docs/models#live-api)\n",
        " - [Vertex AI: Gemini Live API](https://cloud.google.com/vertex-ai/generative-ai/docs/live-api)\n",
        "\n",
        "You can then replace the model string in root_agent in the agent.py file you created earlier (jump to section). Your code should look something like:\n",
        "\n",
        "```python\n",
        "root_agent = Agent(\n",
        "    name=\"weather_time_agent\",\n",
        "    model=\"replace-me-with-model-id\", #e.g. gemini-2.0-flash-live-001\n",
        "    ...\n",
        "```\n"
      ],
      "metadata": {
        "id": "fNQ8wnQdkd-0"
      }
    },
    {
      "cell_type": "markdown",
      "source": [
        "### Terminal (adk run)"
      ],
      "metadata": {
        "id": "0B4W81S_la88"
      }
    },
    {
      "cell_type": "markdown",
      "source": [
        "Run the following command, to chat with your Weather agent."
      ],
      "metadata": {
        "id": "TST2xSnYmfkl"
      }
    },
    {
      "cell_type": "code",
      "source": [
        "!adk run multi_tool_agent"
      ],
      "metadata": {
        "colab": {
          "base_uri": "https://localhost:8080/"
        },
        "id": "nFTNNeUymbik",
        "outputId": "c8c33581-e3eb-42fc-e739-ec6778743473"
      },
      "execution_count": null,
      "outputs": [
        {
          "output_type": "stream",
          "name": "stdout",
          "text": [
            "Log setup complete: /tmp/agents_log/agent.20250706_071955.log\n",
            "To access latest log: tail -F /tmp/agents_log/agent.latest.log\n",
            "Running agent weather_time_agent, type exit to exit.\n",
            "[user]: hello\n",
            "[weather_time_agent]: Hello! How can I help you today? I can provide you with the current weather or time in a specific city.\n",
            "\n",
            "[user]: what's the weather like today?\n",
            "[weather_time_agent]: Could you please specify which city you're interested in?\n",
            "\n",
            "[user]: new york\n",
            "[weather_time_agent]: The weather in New York is sunny with a temperature of 25 degrees Celsius (77 degrees Fahrenheit).\n",
            "\n",
            "[user]: "
          ]
        }
      ]
    },
    {
      "cell_type": "markdown",
      "source": [
        "\n",
        "\n",
        "<img width=800px src=\"https://google.github.io/adk-docs/assets/adk-run.png\" />\n",
        "\n",
        "To exit, use Cmd/Ctrl+C.\n",
        "\n"
      ],
      "metadata": {
        "id": "6lO_0Oq3lk33"
      }
    },
    {
      "cell_type": "markdown",
      "source": [
        "### API Server (adk api_server)"
      ],
      "metadata": {
        "id": "o8D1_j2Ql7Vp"
      }
    },
    {
      "cell_type": "markdown",
      "source": [
        "```shell\n",
        "adk api_server\n",
        "```\n",
        "enables you to create a local FastAPI server in a single command, enabling you to test local cURL requests before you deploy your agent.\n",
        "\n",
        "<img width=800px src=\"https://google.github.io/adk-docs/assets/adk-api-server.png\" />\n",
        "\n",
        "To learn how to use adk api_server for testing, refer to the [documentation on testing](https://google.github.io/adk-docs/get-started/testing/).\n",
        "\n"
      ],
      "metadata": {
        "id": "fyYOOLdKl1nY"
      }
    },
    {
      "cell_type": "markdown",
      "source": [
        "## Misc\n",
        "\n",
        "https://google.github.io/adk-docs/tools/\n",
        "\n",
        "\n",
        "If you want to wrap the agent as tool, so you can use:\n",
        "```python\n",
        "AgentTool(agent=...)\n",
        "```\n",
        "\n",
        "Subagent, you can use:\n",
        "```python\n",
        "root_agent = Agent(\n",
        "    name=\"...\",\n",
        "    model=\"gemini-2.0-flash\",\n",
        "    description=\"...\",\n",
        "    instruction=\"...\",\n",
        "    tools=[...],\n",
        "    sub_agents=[\"...\"]\n",
        ")\n",
        "```"
      ],
      "metadata": {
        "id": "m5aYw-LAs8MG"
      }
    }
  ]
}