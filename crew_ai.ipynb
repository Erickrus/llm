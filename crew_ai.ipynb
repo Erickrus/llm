{
  "nbformat": 4,
  "nbformat_minor": 0,
  "metadata": {
    "colab": {
      "provenance": [],
      "collapsed_sections": [
        "3zFPNpfK0CPi",
        "Sz9p_q3e0FBq"
      ],
      "authorship_tag": "ABX9TyPoCTosuJIyPrtT7PXvXxHL",
      "include_colab_link": true
    },
    "kernelspec": {
      "name": "python3",
      "display_name": "Python 3"
    },
    "language_info": {
      "name": "python"
    }
  },
  "cells": [
    {
      "cell_type": "markdown",
      "metadata": {
        "id": "view-in-github",
        "colab_type": "text"
      },
      "source": [
        "<a href=\"https://colab.research.google.com/github/Erickrus/llm/blob/main/crew_ai.ipynb\" target=\"_parent\"><img src=\"https://colab.research.google.com/assets/colab-badge.svg\" alt=\"Open In Colab\"/></a>"
      ]
    },
    {
      "cell_type": "markdown",
      "source": [
        "#crewAI"
      ],
      "metadata": {
        "id": "pzxDDmii00jS"
      }
    },
    {
      "cell_type": "markdown",
      "source": [
        "<img src='https://raw.githubusercontent.com/joaomdmoura/crewAI/main/docs/crewai_logo.png' width=320px />\n",
        "\n",
        "🤖 crewAI: Cutting-edge framework for orchestrating role-playing, autonomous AI agents. By fostering collaborative intelligence, CrewAI empowers agents to work together seamlessly, tackling complex tasks."
      ],
      "metadata": {
        "id": "t_jCIUmK1EDM"
      }
    },
    {
      "cell_type": "markdown",
      "source": [
        "##Installation"
      ],
      "metadata": {
        "id": "3zFPNpfK0CPi"
      }
    },
    {
      "cell_type": "code",
      "source": [
        "#@title requirements.txt\n",
        "#@markdown\n",
        "%%writefile /content/requirements.txt\n",
        "faiss-cpu==1.8.0\n",
        "google-generativeai>=0.3.2\n",
        "langchain\n",
        "langchain-community>=0.0.33\n",
        "langchain-core>=0.1.43\n",
        "langchain-experimental>=0.0.57\n",
        "langchain-google-vertexai>=1.0.1\n",
        "langchain-text-splitters>=0.0.1\n",
        "langchainhub>=0.1.15\n",
        "Markdown==3.5.2\n",
        "thefuzz==0.22.1\n",
        "chromadb==0.4.24\n",
        "sentence-transformers==2.6.1\n",
        "scipy==1.11.4\n",
        "numpy==1.25.2\n",
        "scikit-image==0.19.3\n",
        "scikit-learn==1.2.2\n",
        "gdown\n",
        "bs4==0.0.2\n",
        "tiktoken==0.3.1\n",
        "typing-inspect==0.8.0\n",
        "typing_extensions==4.11.0\n",
        "pydantic>=1.10.11\n",
        "zhconv==1.4.3\n",
        "duckduckgo_search==5.3.0\n",
        "langchain_google_genai==1.0.2\n"
      ],
      "metadata": {
        "cellView": "form",
        "id": "FhgYjjBhsgs5"
      },
      "execution_count": null,
      "outputs": []
    },
    {
      "cell_type": "code",
      "source": [
        "#@title install requirements.txt and crewai\n",
        "!pip3 install -q -r requirements.txt\n",
        "!pip3 install -U crewai==0.14.3 crewai[tools] pydantic"
      ],
      "metadata": {
        "cellView": "form",
        "id": "oi96PwsDsqDK"
      },
      "execution_count": null,
      "outputs": []
    },
    {
      "cell_type": "markdown",
      "source": [
        "##Execute CrewAI"
      ],
      "metadata": {
        "id": "Sz9p_q3e0FBq"
      }
    },
    {
      "cell_type": "code",
      "source": [
        "#@title override llm by using langchain_google_genai.ChatGoogleGenerativeAI\n",
        "import os\n",
        "import getpass\n",
        "from crewai import Agent, Task, Crew, Process\n",
        "from langchain_google_genai import ChatGoogleGenerativeAI\n",
        "\n",
        "GOOGLE_API_KEY = getpass.getpass(prompt='input GOOGLE_API_KEY:', stream=None)\n",
        "\n",
        "#@markdown https://github.com/joaomdmoura/crewAI/issues/105\n",
        "#@markdown\n",
        "#@markdown basically you can have all kind of llms, they should be well supported by langchain\n",
        "llm = ChatGoogleGenerativeAI(model=\"gemini-pro\",verbose = True,temperature = 0.1,google_api_key=GOOGLE_API_KEY)\n"
      ],
      "metadata": {
        "colab": {
          "base_uri": "https://localhost:8080/"
        },
        "id": "qTbOymKUtGUE",
        "outputId": "71dc2e45-a1e8-4ac3-af20-d2fb96431f01"
      },
      "execution_count": null,
      "outputs": [
        {
          "name": "stdout",
          "output_type": "stream",
          "text": [
            "input GOOGLE_API_KEY:··········\n"
          ]
        }
      ]
    },
    {
      "cell_type": "code",
      "source": [
        "#@title 定义团队人员Agents\n",
        "researcher = Agent(\n",
        "    role='高级研究分析师',\n",
        "    goal='揭秘人工智能和数据科学领域的前沿发展',\n",
        "    backstory=\"\"\"您在一家领先的科技智库工作。\n",
        "    您的专长在于识别新兴趋势。\n",
        "    您擅长分析复杂数据并提出\n",
        "    可操作的见解。\"\"\",\n",
        "    verbose=True,\n",
        "    llm = llm,\n",
        "    allow_delegation=False,\n",
        "    tools=[],\n",
        ")\n",
        "\n",
        "writer = Agent(\n",
        "    role='技术内容策略师',\n",
        "    goal='制作有关技术进步的引人入胜的内容',\n",
        "    backstory=\"\"\"您是一位知名的内容策略师，以\n",
        "    富有洞察力和吸引力的文章而闻名。\n",
        "    您将复杂的概念转化为引人入胜的叙述。\"\"\",\n",
        "    verbose=True,\n",
        "    allow_delegation=True,\n",
        "    llm = llm,\n",
        "    tools=[],\n",
        ")\n",
        "\n",
        "translator = Agent(\n",
        "    role='文档翻译员',\n",
        "    goal='将所有文档内容翻译成最终的简体中文',\n",
        "    backstory=\"\"\"您是一位非常有经验的技术翻译工作者，\n",
        "    能够非常好的处理各种文档翻译工作。\n",
        "    您将把任何语言翻译成最终的简体中文。\"\"\",\n",
        "    verbose=True,\n",
        "    allow_delegation=True,\n",
        "    llm = llm,\n",
        "    tools=[],\n",
        ")\n",
        "\n",
        "# researcher = Agent(\n",
        "#     role='Senior Research Analyst',\n",
        "#     goal='Uncover cutting-edge developments in AI and data science',\n",
        "#     backstory=\"\"\"You work at a leading tech think tank.\n",
        "#     Your expertise lies in identifying emerging trends.\n",
        "#     You have a knack for dissecting complex data and presenting\n",
        "#     actionable insights.\"\"\",\n",
        "#     verbose=True,\n",
        "#     llm = llm,\n",
        "#     allow_delegation=False,\n",
        "#     tools=[],\n",
        "# )\n",
        "\n",
        "# writer = Agent(\n",
        "#     role='Tech Content Strategist',\n",
        "#     goal='Craft compelling content on tech advancements',\n",
        "#     backstory=\"\"\"You are a renowned Content Strategist, known for\n",
        "#     your insightful and engaging articles.\n",
        "#     You transform complex concepts into compelling narratives.\"\"\",\n",
        "#     verbose=True,\n",
        "#     allow_delegation=True,\n",
        "#     llm = llm,\n",
        "#     tools=[],\n",
        "# )"
      ],
      "metadata": {
        "cellView": "form",
        "id": "V4WoLEpW23bi"
      },
      "execution_count": null,
      "outputs": []
    },
    {
      "cell_type": "code",
      "source": [
        "#@title 定义任务Tasks\n",
        "task1 = Task(\n",
        "    description=\"\"\"对 2024 年人工智能的最新进展进行全面分析。\n",
        "    确定关键趋势、突破性技术和潜在的行业影响。\n",
        "    您的最终答案必须是一份完整的分析报告\"\"\",\n",
        "    agent=researcher\n",
        ")\n",
        "\n",
        "task2 = Task(\n",
        "    description=\"\"\"利用提供的见解，撰写一篇引人入胜的博客文章，重点介绍最重要的人工智能进步。\n",
        "    您的帖子应内容丰富但易于理解，迎合精通技术的受众。\n",
        "    让它听起来很酷，避免使用复杂的单词，这样听起来就不像人工智能。\n",
        "    您的最终答案必须是至少 4 段的完整博客文章。\"\"\",\n",
        "    agent=writer\n",
        ")\n",
        "\n",
        "task3 = Task(\n",
        "    description=\"\"\"请将最终输出的内容翻译成中文\n",
        "    翻译需要尽可能与原始文档的结构保持一致\n",
        "    如果有技术术语，可以直接采用英文词汇\"\"\",\n",
        "    agent=translator\n",
        ")\n",
        "\n",
        "# task1 = Task(\n",
        "#     description=\"\"\"Conduct a comprehensive analysis of the latest advancements in AI in 2024.\n",
        "#     Identify key trends, breakthrough technologies, and potential industry impacts.\n",
        "#     Your final answer MUST be a full analysis report\"\"\",\n",
        "#     agent=researcher\n",
        "# )\n",
        "\n",
        "# task2 = Task(\n",
        "#     description=\"\"\"Using the insights provided, develop an engaging blog\n",
        "#     post that highlights the most significant AI advancements.\n",
        "#     Your post should be informative yet accessible, catering to a tech-savvy audience.\n",
        "#     Make it sound cool, avoid complex words so it doesn't sound like AI.\n",
        "#     Your final answer MUST be the full blog post of at least 4 paragraphs.\"\"\",\n",
        "#     agent=writer\n",
        "# )"
      ],
      "metadata": {
        "cellView": "form",
        "id": "KQ8MXiCt2v7J"
      },
      "execution_count": null,
      "outputs": []
    },
    {
      "cell_type": "code",
      "source": [
        "#@title 定义团队人员Crew\n",
        "crew = Crew(\n",
        "    agents=[\n",
        "        researcher,\n",
        "        writer,\n",
        "        translator\n",
        "    ],\n",
        "    tasks=[\n",
        "        task1,\n",
        "        task2,\n",
        "        task3\n",
        "    ],\n",
        "    verbose=2,\n",
        ")\n",
        "# crew = Crew(\n",
        "#     agents=[\n",
        "#         researcher,\n",
        "#         writer\n",
        "#     ],\n",
        "#     tasks=[\n",
        "#         task1,\n",
        "#         task2\n",
        "#     ],\n",
        "#     verbose=2,\n",
        "# )"
      ],
      "metadata": {
        "colab": {
          "base_uri": "https://localhost:8080/"
        },
        "cellView": "form",
        "id": "g0Y-95574ZUr",
        "outputId": "0ab57874-d4d4-4153-91ec-09591c1366b0"
      },
      "execution_count": null,
      "outputs": [
        {
          "output_type": "stream",
          "name": "stderr",
          "text": [
            "WARNING:opentelemetry.trace:Overriding of current TracerProvider is not allowed\n"
          ]
        }
      ]
    },
    {
      "cell_type": "code",
      "source": [
        "#@title kickoff\n",
        "result = crew.kickoff()"
      ],
      "metadata": {
        "colab": {
          "base_uri": "https://localhost:8080/"
        },
        "cellView": "form",
        "id": "CudZaiGNyZdK",
        "outputId": "c9fd83c6-d85e-4df6-897d-d7341d12b08a"
      },
      "execution_count": null,
      "outputs": [
        {
          "output_type": "stream",
          "name": "stdout",
          "text": [
            "[DEBUG]: Working Agent: 高级研究分析师\n",
            "[INFO]: Starting Task: 对 2024 年人工智能的最新进展进行全面分析。\n",
            "    确定关键趋势、突破性技术和潜在的行业影响。\n",
            "    您的最终答案必须是一份完整的分析报告\n",
            "\n",
            "\n",
            "\u001b[1m> Entering new CrewAgentExecutor chain...\u001b[0m\n",
            "\u001b[32;1m\u001b[1;3mFinal Answer: [Sure, here is a comprehensive analysis report on the latest advancements in AI for 2024, including key trends, breakthrough technologies, and potential industry impacts.\n",
            "\n",
            "**Executive Summary**\n",
            "\n",
            "Artificial intelligence (AI) is rapidly evolving, with new advancements emerging all the time. In 2024, we can expect to see continued progress in a number of key areas, including:\n",
            "\n",
            "* **Machine learning (ML):** ML algorithms are becoming increasingly sophisticated, enabling them to solve more complex problems. This is leading to new applications in a wide range of industries, from healthcare to finance.\n",
            "* **Natural language processing (NLP):** NLP algorithms are becoming better at understanding and generating human language. This is making it possible to develop new applications that can interact with people in a more natural way.\n",
            "* **Computer vision:** Computer vision algorithms are becoming better at recognizing and interpreting images and videos. This is leading to new applications in areas such as security, surveillance, and medical diagnosis.\n",
            "* **Robotics:** Robots are becoming more autonomous and capable. This is leading to new applications in areas such as manufacturing, healthcare, and space exploration.\n",
            "\n",
            "These are just a few of the key trends that we can expect to see in AI in 2024. As AI continues to develop, it is likely to have a profound impact on a wide range of industries and aspects of our lives.\n",
            "\n",
            "**Key Trends**\n",
            "\n",
            "The following are some of the key trends that we can expect to see in AI in 2024:\n",
            "\n",
            "* **Increased use of AI in business:** AI is becoming increasingly mainstream, and businesses are starting to adopt it in a variety of ways. This includes using AI to automate tasks, improve customer service, and make better decisions.\n",
            "* **Development of new AI applications:** As AI algorithms become more sophisticated, new applications are being developed all the time. These applications are being used to solve a wide range of problems, from diagnosing diseases to predicting customer behavior.\n",
            "* **Increased investment in AI research:** Governments and businesses are investing heavily in AI research. This is leading to the development of new algorithms and technologies that are pushing the boundaries of what is possible.\n",
            "\n",
            "**Breakthrough Technologies**\n",
            "\n",
            "The following are some of the breakthrough technologies that we can expect to see in AI in 2024:\n",
            "\n",
            "* **Quantum computing:** Quantum computers have the potential to revolutionize AI by enabling the development of new algorithms that are much faster and more powerful than traditional algorithms.\n",
            "* **Neuromorphic computing:** Neuromorphic computers are designed to mimic the human brain. This could lead to the development of new AI systems that are more intelligent and capable than traditional AI systems.\n",
            "* **Edge AI:** Edge AI is a type of AI that is deployed on devices such as smartphones and self-driving cars. This allows AI to be used in real-time applications, such as object recognition and speech recognition.\n",
            "\n",
            "**Potential Industry Impacts**\n",
            "\n",
            "AI is likely to have a profound impact on a wide range of industries. Some of the industries that are most likely to be affected by AI include:\n",
            "\n",
            "* **Healthcare:** AI is being used to develop new drugs, diagnose diseases, and provide personalized treatment plans.\n",
            "* **Finance:** AI is being used to automate tasks, detect fraud, and make investment decisions.\n",
            "* **Manufacturing:** AI is being used to automate tasks, improve quality control, and optimize supply chains.\n",
            "* **Transportation:** AI is being used to develop self-driving cars, optimize traffic flow, and improve public transportation.\n",
            "* **Retail:** AI is being used to personalize shopping experiences, recommend products, and detect fraud.\n",
            "\n",
            "**Conclusion**\n",
            "\n",
            "AI is rapidly evolving, and it is likely to have a profound impact on a wide range of industries and aspects of our lives. In 2024, we can expect to see continued progress in a number of key areas, including ML, NLP, computer vision, and robotics. We can also expect to see the emergence of new breakthrough technologies, such as quantum computing and neuromorphic computing. These technologies are likely to lead to the development of new AI applications that are more intelligent and capable than ever before.]\u001b[0m\n",
            "\n",
            "\u001b[1m> Finished chain.\u001b[0m\n",
            "[DEBUG]: [高级研究分析师] Task output: [Sure, here is a comprehensive analysis report on the latest advancements in AI for 2024, including key trends, breakthrough technologies, and potential industry impacts.\n",
            "\n",
            "**Executive Summary**\n",
            "\n",
            "Artificial intelligence (AI) is rapidly evolving, with new advancements emerging all the time. In 2024, we can expect to see continued progress in a number of key areas, including:\n",
            "\n",
            "* **Machine learning (ML):** ML algorithms are becoming increasingly sophisticated, enabling them to solve more complex problems. This is leading to new applications in a wide range of industries, from healthcare to finance.\n",
            "* **Natural language processing (NLP):** NLP algorithms are becoming better at understanding and generating human language. This is making it possible to develop new applications that can interact with people in a more natural way.\n",
            "* **Computer vision:** Computer vision algorithms are becoming better at recognizing and interpreting images and videos. This is leading to new applications in areas such as security, surveillance, and medical diagnosis.\n",
            "* **Robotics:** Robots are becoming more autonomous and capable. This is leading to new applications in areas such as manufacturing, healthcare, and space exploration.\n",
            "\n",
            "These are just a few of the key trends that we can expect to see in AI in 2024. As AI continues to develop, it is likely to have a profound impact on a wide range of industries and aspects of our lives.\n",
            "\n",
            "**Key Trends**\n",
            "\n",
            "The following are some of the key trends that we can expect to see in AI in 2024:\n",
            "\n",
            "* **Increased use of AI in business:** AI is becoming increasingly mainstream, and businesses are starting to adopt it in a variety of ways. This includes using AI to automate tasks, improve customer service, and make better decisions.\n",
            "* **Development of new AI applications:** As AI algorithms become more sophisticated, new applications are being developed all the time. These applications are being used to solve a wide range of problems, from diagnosing diseases to predicting customer behavior.\n",
            "* **Increased investment in AI research:** Governments and businesses are investing heavily in AI research. This is leading to the development of new algorithms and technologies that are pushing the boundaries of what is possible.\n",
            "\n",
            "**Breakthrough Technologies**\n",
            "\n",
            "The following are some of the breakthrough technologies that we can expect to see in AI in 2024:\n",
            "\n",
            "* **Quantum computing:** Quantum computers have the potential to revolutionize AI by enabling the development of new algorithms that are much faster and more powerful than traditional algorithms.\n",
            "* **Neuromorphic computing:** Neuromorphic computers are designed to mimic the human brain. This could lead to the development of new AI systems that are more intelligent and capable than traditional AI systems.\n",
            "* **Edge AI:** Edge AI is a type of AI that is deployed on devices such as smartphones and self-driving cars. This allows AI to be used in real-time applications, such as object recognition and speech recognition.\n",
            "\n",
            "**Potential Industry Impacts**\n",
            "\n",
            "AI is likely to have a profound impact on a wide range of industries. Some of the industries that are most likely to be affected by AI include:\n",
            "\n",
            "* **Healthcare:** AI is being used to develop new drugs, diagnose diseases, and provide personalized treatment plans.\n",
            "* **Finance:** AI is being used to automate tasks, detect fraud, and make investment decisions.\n",
            "* **Manufacturing:** AI is being used to automate tasks, improve quality control, and optimize supply chains.\n",
            "* **Transportation:** AI is being used to develop self-driving cars, optimize traffic flow, and improve public transportation.\n",
            "* **Retail:** AI is being used to personalize shopping experiences, recommend products, and detect fraud.\n",
            "\n",
            "**Conclusion**\n",
            "\n",
            "AI is rapidly evolving, and it is likely to have a profound impact on a wide range of industries and aspects of our lives. In 2024, we can expect to see continued progress in a number of key areas, including ML, NLP, computer vision, and robotics. We can also expect to see the emergence of new breakthrough technologies, such as quantum computing and neuromorphic computing. These technologies are likely to lead to the development of new AI applications that are more intelligent and capable than ever before.]\n",
            "\n",
            "\n",
            "[DEBUG]: Working Agent: 技术内容策略师\n",
            "[INFO]: Starting Task: 利用提供的见解，撰写一篇引人入胜的博客文章，重点介绍最重要的人工智能进步。\n",
            "    您的帖子应内容丰富但易于理解，迎合精通技术的受众。\n",
            "    让它听起来很酷，避免使用复杂的单词，这样听起来就不像人工智能。\n",
            "    您的最终答案必须是至少 4 段的完整博客文章。\n",
            "\n",
            "\n",
            "\u001b[1m> Entering new CrewAgentExecutor chain...\u001b[0m\n",
            "\u001b[32;1m\u001b[1;3mUse Tool: Ask question to co-worker(coworker: \"高级研究分析师\", question: \"What are the most important advancements in AI that we can expect to see in 2024?\", context: \"I'm writing a blog post about the most important advancements in AI that we can expect to see in 2024. I'm looking for insights on the key trends, breakthrough technologies, and potential industry impacts.\")\u001b[0m\u001b[91m \n",
            "\n",
            "Failed to convert text into a pydantic model due to the following error: Unexpected message with type <class 'langchain_core.messages.system.SystemMessage'> at the position 1.\n",
            "\u001b[00m\n",
            "\u001b[32;1m\u001b[1;3mFinal Answer: **The Most Important AI Advancements to Watch for in 2024**\n",
            "\n",
            "Artificial intelligence (AI) is rapidly evolving, and 2024 is poised to be a year of significant advancements. From breakthroughs in machine learning to the emergence of new applications, AI is set to transform industries and our daily lives. Here are some of the most important AI advancements to watch for in the coming year:\n",
            "\n",
            "**1. Continued Progress in Machine Learning**\n",
            "\n",
            "Machine learning (ML) algorithms are becoming increasingly sophisticated, enabling them to solve more complex problems. This is leading to new applications in a wide range of industries, from healthcare to finance. In 2024, we can expect to see continued progress in ML, with new algorithms and techniques being developed that will push the boundaries of what is possible.\n",
            "\n",
            "**2. Natural Language Processing (NLP) Comes of Age**\n",
            "\n",
            "NLP algorithms are becoming better at understanding and generating human language. This is making it possible to develop new applications that can interact with people in a more natural way. In 2024, we can expect to see NLP being used to develop new chatbots, virtual assistants, and other applications that can communicate with us in a more human-like way.\n",
            "\n",
            "**3. Computer Vision Revolutionizes Image and Video Analysis**\n",
            "\n",
            "Computer vision algorithms are becoming better at recognizing and interpreting images and videos. This is leading to new applications in areas such as security, surveillance, and medical diagnosis. In 2024, we can expect to see computer vision being used to develop new applications that can help us to see the world in new ways.\n",
            "\n",
            "**4. Robotics Becomes More Autonomous and Capable**\n",
            "\n",
            "Robots are becoming more autonomous and capable. This is leading to new applications in areas such as manufacturing, healthcare, and space exploration. In 2024, we can expect to see robots being used to perform more complex tasks and to operate in more challenging environments.\n",
            "\n",
            "**5. Quantum Computing and Neuromorphic Computing Emerge**\n",
            "\n",
            "Quantum computing and neuromorphic computing are two new technologies that have the potential to revolutionize AI. Quantum computers can perform calculations much faster than traditional computers, while neuromorphic computers are designed to mimic the human brain. In 2024, we can expect to see these technologies being used to develop new AI applications that are more powerful and intelligent than ever before.\n",
            "\n",
            "These are just a few of the most important AI advancements to watch for in 2024. As AI continues to develop, it is likely to have a profound impact on a wide range of industries and aspects of our lives.\u001b[0m\n",
            "\n",
            "\u001b[1m> Finished chain.\u001b[0m\n",
            "[DEBUG]: [技术内容策略师] Task output: **The Most Important AI Advancements to Watch for in 2024**\n",
            "\n",
            "Artificial intelligence (AI) is rapidly evolving, and 2024 is poised to be a year of significant advancements. From breakthroughs in machine learning to the emergence of new applications, AI is set to transform industries and our daily lives. Here are some of the most important AI advancements to watch for in the coming year:\n",
            "\n",
            "**1. Continued Progress in Machine Learning**\n",
            "\n",
            "Machine learning (ML) algorithms are becoming increasingly sophisticated, enabling them to solve more complex problems. This is leading to new applications in a wide range of industries, from healthcare to finance. In 2024, we can expect to see continued progress in ML, with new algorithms and techniques being developed that will push the boundaries of what is possible.\n",
            "\n",
            "**2. Natural Language Processing (NLP) Comes of Age**\n",
            "\n",
            "NLP algorithms are becoming better at understanding and generating human language. This is making it possible to develop new applications that can interact with people in a more natural way. In 2024, we can expect to see NLP being used to develop new chatbots, virtual assistants, and other applications that can communicate with us in a more human-like way.\n",
            "\n",
            "**3. Computer Vision Revolutionizes Image and Video Analysis**\n",
            "\n",
            "Computer vision algorithms are becoming better at recognizing and interpreting images and videos. This is leading to new applications in areas such as security, surveillance, and medical diagnosis. In 2024, we can expect to see computer vision being used to develop new applications that can help us to see the world in new ways.\n",
            "\n",
            "**4. Robotics Becomes More Autonomous and Capable**\n",
            "\n",
            "Robots are becoming more autonomous and capable. This is leading to new applications in areas such as manufacturing, healthcare, and space exploration. In 2024, we can expect to see robots being used to perform more complex tasks and to operate in more challenging environments.\n",
            "\n",
            "**5. Quantum Computing and Neuromorphic Computing Emerge**\n",
            "\n",
            "Quantum computing and neuromorphic computing are two new technologies that have the potential to revolutionize AI. Quantum computers can perform calculations much faster than traditional computers, while neuromorphic computers are designed to mimic the human brain. In 2024, we can expect to see these technologies being used to develop new AI applications that are more powerful and intelligent than ever before.\n",
            "\n",
            "These are just a few of the most important AI advancements to watch for in 2024. As AI continues to develop, it is likely to have a profound impact on a wide range of industries and aspects of our lives.\n",
            "\n",
            "\n",
            "[DEBUG]: Working Agent: 文档翻译员\n",
            "[INFO]: Starting Task: 请将最终输出的内容翻译成中文\n",
            "    翻译需要尽可能与原始文档的结构保持一致\n",
            "    如果有技术术语，可以直接采用英文词汇\n",
            "\n",
            "\n",
            "\u001b[1m> Entering new CrewAgentExecutor chain...\u001b[0m\n",
            "\u001b[32;1m\u001b[1;3mUse Tool: Ask question to co-worker(coworker: 技术内容策略师, question: 翻译时，如何尽可能与原始文档的结构保持一致？, context: 翻译时，需要尽可能与原始文档的结构保持一致，请提供建议。)\u001b[0m\u001b[91m \n",
            "\n",
            "Failed to convert text into a pydantic model due to the following error: Unexpected message with type <class 'langchain_core.messages.system.SystemMessage'> at the position 1.\n",
            "\u001b[00m\n",
            "\u001b[32;1m\u001b[1;3mFinal Answer: **2024 年值得关注的最重要的 AI 进步**\n",
            "\n",
            "人工智能 (AI) 正在迅速发展，而 2024 年有望成为取得重大进步的一年。从机器学习的突破到新应用的出现，AI 即将改变行业和我们的日常生活。以下是未来一年值得关注的一些最重要的 AI 进步：\n",
            "\n",
            "**1. 机器学习持续取得进展**\n",
            "\n",
            "机器学习 (ML) 算法变得越来越复杂，使它们能够解决更复杂的问题。这正在各个行业带来新的应用，从医疗保健到金融。在 2024 年，我们可以期待 ML 持续取得进展，开发出新的算法和技术，突破可能的界限。\n",
            "\n",
            "**2. 自然语言处理 (NLP) 走向成熟**\n",
            "\n",
            "NLP 算法在理解和生成人类语言方面变得越来越好。这使得开发能够以更自然的方式与人交互的新应用程序成为可能。在 2024 年，我们可以期待 NLP 被用于开发新的聊天机器人、虚拟助手和其他能够以更像人类的方式与我们交流的应用程序。\n",
            "\n",
            "**3. 计算机视觉彻底改变图像和视频分析**\n",
            "\n",
            "计算机视觉算法在识别和解释图像和视频方面变得越来越好。这正在安防、监控和医疗诊断等领域带来新的应用。在 2024 年，我们可以期待计算机视觉被用于开发新的应用程序，帮助我们以新的方式看待世界。\n",
            "\n",
            "**4. 机器人变得更加自主和强大**\n",
            "\n",
            "机器人变得更加自主和强大。这正在制造、医疗保健和太空探索等领域带来新的应用。在 2024 年，我们可以期待机器人被用于执行更复杂的任务并在更具挑战性的环境中运行。\n",
            "\n",
            "**5. 量子计算和神经形态计算出现**\n",
            "\n",
            "量子计算和神经形态计算是两种有可能彻底改变 AI 的新技术。量子计算机可以比传统计算机快得多地执行计算，而神经形态计算机旨在模仿人脑。在 2024 年，我们可以期待这些技术被用于开发比以往更强大、更智能的新 AI 应用程序。\n",
            "\n",
            "这些只是 2024 年值得关注的一些最重要的 AI 进步。随着 AI 的不断发展，它可能会对广泛的行业和我们生活的各个方面产生深远的影响。\u001b[0m\n",
            "\n",
            "\u001b[1m> Finished chain.\u001b[0m\n",
            "[DEBUG]: [文档翻译员] Task output: **2024 年值得关注的最重要的 AI 进步**\n",
            "\n",
            "人工智能 (AI) 正在迅速发展，而 2024 年有望成为取得重大进步的一年。从机器学习的突破到新应用的出现，AI 即将改变行业和我们的日常生活。以下是未来一年值得关注的一些最重要的 AI 进步：\n",
            "\n",
            "**1. 机器学习持续取得进展**\n",
            "\n",
            "机器学习 (ML) 算法变得越来越复杂，使它们能够解决更复杂的问题。这正在各个行业带来新的应用，从医疗保健到金融。在 2024 年，我们可以期待 ML 持续取得进展，开发出新的算法和技术，突破可能的界限。\n",
            "\n",
            "**2. 自然语言处理 (NLP) 走向成熟**\n",
            "\n",
            "NLP 算法在理解和生成人类语言方面变得越来越好。这使得开发能够以更自然的方式与人交互的新应用程序成为可能。在 2024 年，我们可以期待 NLP 被用于开发新的聊天机器人、虚拟助手和其他能够以更像人类的方式与我们交流的应用程序。\n",
            "\n",
            "**3. 计算机视觉彻底改变图像和视频分析**\n",
            "\n",
            "计算机视觉算法在识别和解释图像和视频方面变得越来越好。这正在安防、监控和医疗诊断等领域带来新的应用。在 2024 年，我们可以期待计算机视觉被用于开发新的应用程序，帮助我们以新的方式看待世界。\n",
            "\n",
            "**4. 机器人变得更加自主和强大**\n",
            "\n",
            "机器人变得更加自主和强大。这正在制造、医疗保健和太空探索等领域带来新的应用。在 2024 年，我们可以期待机器人被用于执行更复杂的任务并在更具挑战性的环境中运行。\n",
            "\n",
            "**5. 量子计算和神经形态计算出现**\n",
            "\n",
            "量子计算和神经形态计算是两种有可能彻底改变 AI 的新技术。量子计算机可以比传统计算机快得多地执行计算，而神经形态计算机旨在模仿人脑。在 2024 年，我们可以期待这些技术被用于开发比以往更强大、更智能的新 AI 应用程序。\n",
            "\n",
            "这些只是 2024 年值得关注的一些最重要的 AI 进步。随着 AI 的不断发展，它可能会对广泛的行业和我们生活的各个方面产生深远的影响。\n",
            "\n",
            "\n"
          ]
        }
      ]
    },
    {
      "cell_type": "code",
      "source": [
        "#@title display result\n",
        "from IPython.display import display, Markdown\n",
        "display(Markdown(result))"
      ],
      "metadata": {
        "cellView": "form",
        "colab": {
          "base_uri": "https://localhost:8080/",
          "height": 431
        },
        "id": "FLEmASLC0o8G",
        "outputId": "25e6a1ab-38c6-4e46-cc7a-aaa9eef5cc22"
      },
      "execution_count": null,
      "outputs": [
        {
          "output_type": "display_data",
          "data": {
            "text/plain": [
              "<IPython.core.display.Markdown object>"
            ],
            "text/markdown": "**2024 年值得关注的最重要的 AI 进步**\n\n人工智能 (AI) 正在迅速发展，而 2024 年有望成为取得重大进步的一年。从机器学习的突破到新应用的出现，AI 即将改变行业和我们的日常生活。以下是未来一年值得关注的一些最重要的 AI 进步：\n\n**1. 机器学习持续取得进展**\n\n机器学习 (ML) 算法变得越来越复杂，使它们能够解决更复杂的问题。这正在各个行业带来新的应用，从医疗保健到金融。在 2024 年，我们可以期待 ML 持续取得进展，开发出新的算法和技术，突破可能的界限。\n\n**2. 自然语言处理 (NLP) 走向成熟**\n\nNLP 算法在理解和生成人类语言方面变得越来越好。这使得开发能够以更自然的方式与人交互的新应用程序成为可能。在 2024 年，我们可以期待 NLP 被用于开发新的聊天机器人、虚拟助手和其他能够以更像人类的方式与我们交流的应用程序。\n\n**3. 计算机视觉彻底改变图像和视频分析**\n\n计算机视觉算法在识别和解释图像和视频方面变得越来越好。这正在安防、监控和医疗诊断等领域带来新的应用。在 2024 年，我们可以期待计算机视觉被用于开发新的应用程序，帮助我们以新的方式看待世界。\n\n**4. 机器人变得更加自主和强大**\n\n机器人变得更加自主和强大。这正在制造、医疗保健和太空探索等领域带来新的应用。在 2024 年，我们可以期待机器人被用于执行更复杂的任务并在更具挑战性的环境中运行。\n\n**5. 量子计算和神经形态计算出现**\n\n量子计算和神经形态计算是两种有可能彻底改变 AI 的新技术。量子计算机可以比传统计算机快得多地执行计算，而神经形态计算机旨在模仿人脑。在 2024 年，我们可以期待这些技术被用于开发比以往更强大、更智能的新 AI 应用程序。\n\n这些只是 2024 年值得关注的一些最重要的 AI 进步。随着 AI 的不断发展，它可能会对广泛的行业和我们生活的各个方面产生深远的影响。"
          },
          "metadata": {}
        }
      ]
    }
  ]
}